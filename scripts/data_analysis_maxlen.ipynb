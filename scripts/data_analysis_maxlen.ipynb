{
 "cells": [
  {
   "cell_type": "markdown",
   "metadata": {
    "id": "tmPVAmTsb0Vz"
   },
   "source": [
    "# maxlen 분석\n",
    "\n",
    "- electra 와 roberta 토크나이저로 전체 리뷰 데이터 길이 분석\n"
   ]
  },
  {
   "cell_type": "code",
   "execution_count": null,
   "metadata": {
    "colab": {
     "base_uri": "https://localhost:8080/"
    },
    "collapsed": true,
    "executionInfo": {
     "elapsed": 2822,
     "status": "ok",
     "timestamp": 1749207041719,
     "user": {
      "displayName": "melon",
      "userId": "16479606032837208631"
     },
     "user_tz": -540
    },
    "id": "_RDH-YQsQ2K0",
    "jupyter": {
     "outputs_hidden": true
    },
    "outputId": "da86f082-66b1-4b52-fc22-42a08bc5af9e"
   },
   "outputs": [
    {
     "name": "stdout",
     "output_type": "stream",
     "text": [
      "Requirement already satisfied: transformers in /usr/local/lib/python3.11/dist-packages (4.52.3)\n",
      "Requirement already satisfied: filelock in /usr/local/lib/python3.11/dist-packages (from transformers) (3.18.0)\n",
      "Requirement already satisfied: huggingface-hub<1.0,>=0.30.0 in /usr/local/lib/python3.11/dist-packages (from transformers) (0.32.2)\n",
      "Requirement already satisfied: numpy>=1.17 in /usr/local/lib/python3.11/dist-packages (from transformers) (2.0.2)\n",
      "Requirement already satisfied: packaging>=20.0 in /usr/local/lib/python3.11/dist-packages (from transformers) (24.2)\n",
      "Requirement already satisfied: pyyaml>=5.1 in /usr/local/lib/python3.11/dist-packages (from transformers) (6.0.2)\n",
      "Requirement already satisfied: regex!=2019.12.17 in /usr/local/lib/python3.11/dist-packages (from transformers) (2024.11.6)\n",
      "Requirement already satisfied: requests in /usr/local/lib/python3.11/dist-packages (from transformers) (2.32.3)\n",
      "Requirement already satisfied: tokenizers<0.22,>=0.21 in /usr/local/lib/python3.11/dist-packages (from transformers) (0.21.1)\n",
      "Requirement already satisfied: safetensors>=0.4.3 in /usr/local/lib/python3.11/dist-packages (from transformers) (0.5.3)\n",
      "Requirement already satisfied: tqdm>=4.27 in /usr/local/lib/python3.11/dist-packages (from transformers) (4.67.1)\n",
      "Requirement already satisfied: fsspec>=2023.5.0 in /usr/local/lib/python3.11/dist-packages (from huggingface-hub<1.0,>=0.30.0->transformers) (2025.3.2)\n",
      "Requirement already satisfied: typing-extensions>=3.7.4.3 in /usr/local/lib/python3.11/dist-packages (from huggingface-hub<1.0,>=0.30.0->transformers) (4.13.2)\n",
      "Requirement already satisfied: hf-xet<2.0.0,>=1.1.2 in /usr/local/lib/python3.11/dist-packages (from huggingface-hub<1.0,>=0.30.0->transformers) (1.1.2)\n",
      "Requirement already satisfied: charset-normalizer<4,>=2 in /usr/local/lib/python3.11/dist-packages (from requests->transformers) (3.4.2)\n",
      "Requirement already satisfied: idna<4,>=2.5 in /usr/local/lib/python3.11/dist-packages (from requests->transformers) (3.10)\n",
      "Requirement already satisfied: urllib3<3,>=1.21.1 in /usr/local/lib/python3.11/dist-packages (from requests->transformers) (2.4.0)\n",
      "Requirement already satisfied: certifi>=2017.4.17 in /usr/local/lib/python3.11/dist-packages (from requests->transformers) (2025.4.26)\n"
     ]
    }
   ],
   "source": [
    "!pip install transformers"
   ]
  },
  {
   "cell_type": "code",
   "execution_count": null,
   "metadata": {
    "colab": {
     "base_uri": "https://localhost:8080/"
    },
    "collapsed": true,
    "executionInfo": {
     "elapsed": 2819,
     "status": "ok",
     "timestamp": 1749207046185,
     "user": {
      "displayName": "melon",
      "userId": "16479606032837208631"
     },
     "user_tz": -540
    },
    "id": "gmtfOHQSQ-nS",
    "jupyter": {
     "outputs_hidden": true
    },
    "outputId": "9a6f4e9e-bd72-4e97-d578-a51f62203cfa",
    "scrolled": true
   },
   "outputs": [
    {
     "name": "stdout",
     "output_type": "stream",
     "text": [
      "Requirement already satisfied: datasets in /usr/local/lib/python3.11/dist-packages (2.14.4)\n",
      "Requirement already satisfied: numpy>=1.17 in /usr/local/lib/python3.11/dist-packages (from datasets) (2.0.2)\n",
      "Requirement already satisfied: pyarrow>=8.0.0 in /usr/local/lib/python3.11/dist-packages (from datasets) (18.1.0)\n",
      "Requirement already satisfied: dill<0.3.8,>=0.3.0 in /usr/local/lib/python3.11/dist-packages (from datasets) (0.3.7)\n",
      "Requirement already satisfied: pandas in /usr/local/lib/python3.11/dist-packages (from datasets) (2.2.2)\n",
      "Requirement already satisfied: requests>=2.19.0 in /usr/local/lib/python3.11/dist-packages (from datasets) (2.32.3)\n",
      "Requirement already satisfied: tqdm>=4.62.1 in /usr/local/lib/python3.11/dist-packages (from datasets) (4.67.1)\n",
      "Requirement already satisfied: xxhash in /usr/local/lib/python3.11/dist-packages (from datasets) (3.5.0)\n",
      "Requirement already satisfied: multiprocess in /usr/local/lib/python3.11/dist-packages (from datasets) (0.70.15)\n",
      "Requirement already satisfied: fsspec>=2021.11.1 in /usr/local/lib/python3.11/dist-packages (from fsspec[http]>=2021.11.1->datasets) (2025.3.2)\n",
      "Requirement already satisfied: aiohttp in /usr/local/lib/python3.11/dist-packages (from datasets) (3.11.15)\n",
      "Requirement already satisfied: huggingface-hub<1.0.0,>=0.14.0 in /usr/local/lib/python3.11/dist-packages (from datasets) (0.32.2)\n",
      "Requirement already satisfied: packaging in /usr/local/lib/python3.11/dist-packages (from datasets) (24.2)\n",
      "Requirement already satisfied: pyyaml>=5.1 in /usr/local/lib/python3.11/dist-packages (from datasets) (6.0.2)\n",
      "Requirement already satisfied: aiohappyeyeballs>=2.3.0 in /usr/local/lib/python3.11/dist-packages (from aiohttp->datasets) (2.6.1)\n",
      "Requirement already satisfied: aiosignal>=1.1.2 in /usr/local/lib/python3.11/dist-packages (from aiohttp->datasets) (1.3.2)\n",
      "Requirement already satisfied: attrs>=17.3.0 in /usr/local/lib/python3.11/dist-packages (from aiohttp->datasets) (25.3.0)\n",
      "Requirement already satisfied: frozenlist>=1.1.1 in /usr/local/lib/python3.11/dist-packages (from aiohttp->datasets) (1.6.0)\n",
      "Requirement already satisfied: multidict<7.0,>=4.5 in /usr/local/lib/python3.11/dist-packages (from aiohttp->datasets) (6.4.4)\n",
      "Requirement already satisfied: propcache>=0.2.0 in /usr/local/lib/python3.11/dist-packages (from aiohttp->datasets) (0.3.1)\n",
      "Requirement already satisfied: yarl<2.0,>=1.17.0 in /usr/local/lib/python3.11/dist-packages (from aiohttp->datasets) (1.20.0)\n",
      "Requirement already satisfied: filelock in /usr/local/lib/python3.11/dist-packages (from huggingface-hub<1.0.0,>=0.14.0->datasets) (3.18.0)\n",
      "Requirement already satisfied: typing-extensions>=3.7.4.3 in /usr/local/lib/python3.11/dist-packages (from huggingface-hub<1.0.0,>=0.14.0->datasets) (4.13.2)\n",
      "Requirement already satisfied: hf-xet<2.0.0,>=1.1.2 in /usr/local/lib/python3.11/dist-packages (from huggingface-hub<1.0.0,>=0.14.0->datasets) (1.1.2)\n",
      "Requirement already satisfied: charset-normalizer<4,>=2 in /usr/local/lib/python3.11/dist-packages (from requests>=2.19.0->datasets) (3.4.2)\n",
      "Requirement already satisfied: idna<4,>=2.5 in /usr/local/lib/python3.11/dist-packages (from requests>=2.19.0->datasets) (3.10)\n",
      "Requirement already satisfied: urllib3<3,>=1.21.1 in /usr/local/lib/python3.11/dist-packages (from requests>=2.19.0->datasets) (2.4.0)\n",
      "Requirement already satisfied: certifi>=2017.4.17 in /usr/local/lib/python3.11/dist-packages (from requests>=2.19.0->datasets) (2025.4.26)\n",
      "Requirement already satisfied: python-dateutil>=2.8.2 in /usr/local/lib/python3.11/dist-packages (from pandas->datasets) (2.9.0.post0)\n",
      "Requirement already satisfied: pytz>=2020.1 in /usr/local/lib/python3.11/dist-packages (from pandas->datasets) (2025.2)\n",
      "Requirement already satisfied: tzdata>=2022.7 in /usr/local/lib/python3.11/dist-packages (from pandas->datasets) (2025.2)\n",
      "Requirement already satisfied: six>=1.5 in /usr/local/lib/python3.11/dist-packages (from python-dateutil>=2.8.2->pandas->datasets) (1.17.0)\n"
     ]
    }
   ],
   "source": [
    "!pip install datasets"
   ]
  },
  {
   "cell_type": "code",
   "execution_count": 1,
   "metadata": {
    "colab": {
     "base_uri": "https://localhost:8080/"
    },
    "executionInfo": {
     "elapsed": 22516,
     "status": "ok",
     "timestamp": 1749692591546,
     "user": {
      "displayName": "melon",
      "userId": "16479606032837208631"
     },
     "user_tz": -540
    },
    "id": "IIpyIPxkdgFC",
    "outputId": "b55717c4-314b-4330-ef65-75bf62bb0bbc"
   },
   "outputs": [
    {
     "name": "stdout",
     "output_type": "stream",
     "text": [
      "Mounted at /content/drive\n"
     ]
    }
   ],
   "source": [
    "from google.colab import drive\n",
    "drive.mount('/content/drive')"
   ]
  },
  {
   "cell_type": "code",
   "execution_count": 2,
   "metadata": {
    "executionInfo": {
     "elapsed": 6316,
     "status": "ok",
     "timestamp": 1749692600825,
     "user": {
      "displayName": "melon",
      "userId": "16479606032837208631"
     },
     "user_tz": -540
    },
    "id": "WymivmdMeksE"
   },
   "outputs": [],
   "source": [
    "import json\n",
    "import os\n",
    "\n",
    "from transformers import AutoModel, AutoConfig, AutoTokenizer\n",
    "\n",
    "from sklearn.model_selection import train_test_split\n",
    "import pandas as pd\n",
    "import numpy as np\n",
    "import matplotlib.pyplot as plt\n",
    "import seaborn as sns\n",
    "from collections import Counter"
   ]
  },
  {
   "cell_type": "code",
   "execution_count": 3,
   "metadata": {
    "executionInfo": {
     "elapsed": 3,
     "status": "ok",
     "timestamp": 1749692602915,
     "user": {
      "displayName": "melon",
      "userId": "16479606032837208631"
     },
     "user_tz": -540
    },
    "id": "8LDwADWNMpsC"
   },
   "outputs": [],
   "source": [
    "# 경로 설정\n",
    "BASE_DIR = '/content/drive/MyDrive/ABSA'\n",
    "DATA_DIR = os.path.join(BASE_DIR, 'data')\n",
    "\n",
    "# 전체 raw 데이터\n",
    "raw_data_path = os.path.join(DATA_DIR, 'rawdata_final.jsonl')\n",
    "\n",
    "# 사전학습모델\n",
    "acd_base_model = 'kykim/electra-kor-base'\n",
    "asc_base_model = 'klue/roberta-base'\n",
    "\n",
    "# 속성 카테고리 정의\n",
    "entity_property_pair = [\n",
    "    '세정', '자극', '거품', '향', '가격', '머릿결', '탈모', '쿨링'\n",
    "]\n"
   ]
  },
  {
   "cell_type": "markdown",
   "metadata": {
    "id": "xGmH15hCeqhJ"
   },
   "source": [
    "json 및 jsonl 파일 read, write 함수"
   ]
  },
  {
   "cell_type": "code",
   "execution_count": 4,
   "metadata": {
    "executionInfo": {
     "elapsed": 2,
     "status": "ok",
     "timestamp": 1749692604455,
     "user": {
      "displayName": "melon",
      "userId": "16479606032837208631"
     },
     "user_tz": -540
    },
    "id": "6vGeHU4yP2Sg",
    "scrolled": true
   },
   "outputs": [],
   "source": [
    "def jsonload(fname, encoding=\"utf-8\"):\n",
    "    with open(fname, encoding=encoding) as f:\n",
    "        return json.load(f)\n",
    "\n",
    "# json 객체를 파일이름으로 깔끔하게 저장\n",
    "def jsondump(j, fname):\n",
    "    with open(fname, \"w\", encoding=\"UTF8\") as f:\n",
    "        json.dump(j, f, ensure_ascii=False, indent=2)\n",
    "\n",
    "# jsonl 파일 읽어서 list에 저장\n",
    "def jsonlload(fname, encoding=\"utf-8\"):\n",
    "    json_list = []\n",
    "    with open(fname, encoding=encoding) as f:\n",
    "        for line in f:\n",
    "            json_list.append(json.loads(line))\n",
    "    return json_list\n",
    "\n",
    "# list에 담긴 json 객체를 jsonl 파일에 저장\n",
    "def jsonldump(jlist, fname):\n",
    "    with open(fname, \"w\", encoding=\"utf-8\") as f:\n",
    "        for item in jlist:\n",
    "            f.write(json.dumps(item, ensure_ascii=False) + \"\\n\")\n",
    "\n",
    "# jsonl 파일에서 불러온 데이터 분할\n",
    "def split_jsonl_file(jsonl_path, output_dir, train_ratio=0.7, dev_ratio=0.15, test_ratio=0.15, seed=42):\n",
    "    with open(jsonl_path, 'r', encoding='utf-8') as f:\n",
    "        lines = [json.loads(line) for line in f]\n",
    "\n",
    "    train_data, temp_data = train_test_split(lines, test_size=(1 - train_ratio), random_state=seed)\n",
    "    dev_data, test_data = train_test_split(temp_data, test_size=test_ratio / (dev_ratio + test_ratio), random_state=seed)\n",
    "\n",
    "    os.makedirs(output_dir, exist_ok=True)\n",
    "    jsonldump(train_data, os.path.join(output_dir, 'train.jsonl'))\n",
    "    jsonldump(dev_data, os.path.join(output_dir, 'dev.jsonl'))\n",
    "    jsonldump(test_data, os.path.join(output_dir, 'test.jsonl'))\n",
    "\n",
    "    print(f\"데이터 분할 완료: train={len(train_data)}, dev={len(dev_data)}, test={len(test_data)}\")\n",
    "\n",
    "def ensure_annotation(data):\n",
    "    for sample in data:\n",
    "        if not sample.get(\"annotation\") or sample[\"annotation\"] == []:\n",
    "            sample[\"annotation\"] = [[\"없음\", [None, 0, 0], None]]\n",
    "    return data\n",
    "\n",
    "def truncate_left(input_ids, attention_mask, max_len, pad_token_id=0):\n",
    "    if len(input_ids) > max_len:\n",
    "        input_ids = input_ids[-max_len:]\n",
    "        attention_mask = attention_mask[-max_len:]\n",
    "    else:\n",
    "        pad_len = max_len - len(input_ids)\n",
    "        input_ids = [pad_token_id] * pad_len + input_ids\n",
    "        attention_mask = [0] * pad_len + attention_mask\n",
    "    return input_ids, attention_mask"
   ]
  },
  {
   "cell_type": "code",
   "execution_count": 5,
   "metadata": {
    "executionInfo": {
     "elapsed": 8433,
     "status": "ok",
     "timestamp": 1749692614678,
     "user": {
      "displayName": "melon",
      "userId": "16479606032837208631"
     },
     "user_tz": -540
    },
    "id": "E-7P2b-lb0V_"
   },
   "outputs": [],
   "source": [
    "df = pd.DataFrame(jsonlload(raw_data_path))"
   ]
  },
  {
   "cell_type": "code",
   "execution_count": 6,
   "metadata": {
    "colab": {
     "base_uri": "https://localhost:8080/",
     "height": 1000
    },
    "executionInfo": {
     "elapsed": 30,
     "status": "ok",
     "timestamp": 1749692615480,
     "user": {
      "displayName": "melon",
      "userId": "16479606032837208631"
     },
     "user_tz": -540
    },
    "id": "RMcYnIo3b0WC",
    "outputId": "9248b70e-3612-48f4-97d1-16409ac751fb"
   },
   "outputs": [
    {
     "data": {
      "application/vnd.google.colaboratory.intrinsic+json": {
       "type": "dataframe",
       "variable_name": "df"
      },
      "text/html": [
       "\n",
       "  <div id=\"df-3aee0255-6f3c-4791-a9c0-12d90419c532\" class=\"colab-df-container\">\n",
       "    <div>\n",
       "<style scoped>\n",
       "    .dataframe tbody tr th:only-of-type {\n",
       "        vertical-align: middle;\n",
       "    }\n",
       "\n",
       "    .dataframe tbody tr th {\n",
       "        vertical-align: top;\n",
       "    }\n",
       "\n",
       "    .dataframe thead th {\n",
       "        text-align: right;\n",
       "    }\n",
       "</style>\n",
       "<table border=\"1\" class=\"dataframe\">\n",
       "  <thead>\n",
       "    <tr style=\"text-align: right;\">\n",
       "      <th></th>\n",
       "      <th>제품명</th>\n",
       "      <th>브랜드</th>\n",
       "      <th>원가</th>\n",
       "      <th>판매가</th>\n",
       "      <th>리뷰수</th>\n",
       "      <th>평균별점</th>\n",
       "      <th>5점비율</th>\n",
       "      <th>4점비율</th>\n",
       "      <th>3점비율</th>\n",
       "      <th>2점비율</th>\n",
       "      <th>...</th>\n",
       "      <th>향/다소아쉬워요</th>\n",
       "      <th>작성자</th>\n",
       "      <th>작성일자</th>\n",
       "      <th>리뷰</th>\n",
       "      <th>별점</th>\n",
       "      <th>사용현황</th>\n",
       "      <th>세정력</th>\n",
       "      <th>자극도</th>\n",
       "      <th>거품</th>\n",
       "      <th>향</th>\n",
       "    </tr>\n",
       "  </thead>\n",
       "  <tbody>\n",
       "    <tr>\n",
       "      <th>0</th>\n",
       "      <td>모다모다 제로그레이 블랙샴푸10 더블기획 (300g+300g)</td>\n",
       "      <td>모다모다</td>\n",
       "      <td>78,000\\n원</td>\n",
       "      <td>48,280\\n원</td>\n",
       "      <td>145</td>\n",
       "      <td>4.6</td>\n",
       "      <td>78%</td>\n",
       "      <td>13%</td>\n",
       "      <td>6%</td>\n",
       "      <td>1%</td>\n",
       "      <td>...</td>\n",
       "      <td>4%</td>\n",
       "      <td>용자입니다</td>\n",
       "      <td>2025.05.19</td>\n",
       "      <td>일주일째 쓰는중인데 좋은거 같기도하고 아닌것 같기도 하고 한달뒤 후기로..ㄹ</td>\n",
       "      <td>5점만점에 5점</td>\n",
       "      <td></td>\n",
       "      <td>아주 만족해요</td>\n",
       "      <td>자극없이 순해요</td>\n",
       "      <td>거품이 풍성해요</td>\n",
       "      <td>아주 만족해요</td>\n",
       "    </tr>\n",
       "    <tr>\n",
       "      <th>1</th>\n",
       "      <td>모다모다 제로그레이 블랙샴푸10 더블기획 (300g+300g)</td>\n",
       "      <td>모다모다</td>\n",
       "      <td>78,000\\n원</td>\n",
       "      <td>48,280\\n원</td>\n",
       "      <td>145</td>\n",
       "      <td>4.6</td>\n",
       "      <td>78%</td>\n",
       "      <td>13%</td>\n",
       "      <td>6%</td>\n",
       "      <td>1%</td>\n",
       "      <td>...</td>\n",
       "      <td>4%</td>\n",
       "      <td>레몽몽</td>\n",
       "      <td>2025.04.28</td>\n",
       "      <td>거품이나 향은 무난한데 새치커버력이 홍보대비 좀 아쉽네요</td>\n",
       "      <td>5점만점에 4점</td>\n",
       "      <td></td>\n",
       "      <td>보통이에요</td>\n",
       "      <td>자극없이 순해요</td>\n",
       "      <td>거품이 풍성해요</td>\n",
       "      <td>아주 만족해요</td>\n",
       "    </tr>\n",
       "    <tr>\n",
       "      <th>2</th>\n",
       "      <td>모다모다 제로그레이 블랙샴푸10 더블기획 (300g+300g)</td>\n",
       "      <td>모다모다</td>\n",
       "      <td>78,000\\n원</td>\n",
       "      <td>48,280\\n원</td>\n",
       "      <td>145</td>\n",
       "      <td>4.6</td>\n",
       "      <td>78%</td>\n",
       "      <td>13%</td>\n",
       "      <td>6%</td>\n",
       "      <td>1%</td>\n",
       "      <td>...</td>\n",
       "      <td>4%</td>\n",
       "      <td>k202401158****</td>\n",
       "      <td>2025.05.16</td>\n",
       "      <td>얼마전에 구매했는데 쿠폰이 있어서 또 구매했어요 미리 쟁여 둘려구요</td>\n",
       "      <td>5점만점에 5점</td>\n",
       "      <td>재구매</td>\n",
       "      <td>아주 만족해요</td>\n",
       "      <td>자극없이 순해요</td>\n",
       "      <td>거품이 풍성해요</td>\n",
       "      <td>아주 만족해요</td>\n",
       "    </tr>\n",
       "    <tr>\n",
       "      <th>3</th>\n",
       "      <td>모다모다 제로그레이 블랙샴푸10 더블기획 (300g+300g)</td>\n",
       "      <td>모다모다</td>\n",
       "      <td>78,000\\n원</td>\n",
       "      <td>48,280\\n원</td>\n",
       "      <td>145</td>\n",
       "      <td>4.6</td>\n",
       "      <td>78%</td>\n",
       "      <td>13%</td>\n",
       "      <td>6%</td>\n",
       "      <td>1%</td>\n",
       "      <td>...</td>\n",
       "      <td>4%</td>\n",
       "      <td>k202401158****</td>\n",
       "      <td>2025.05.10</td>\n",
       "      <td>염색 하지 않고 몇년째 계속 사용하고 있어요남편 덕분에 알게 되어서 지금까지 같이 ...</td>\n",
       "      <td>5점만점에 5점</td>\n",
       "      <td></td>\n",
       "      <td>아주 만족해요</td>\n",
       "      <td>자극없이 순해요</td>\n",
       "      <td>거품이 풍성해요</td>\n",
       "      <td>아주 만족해요</td>\n",
       "    </tr>\n",
       "    <tr>\n",
       "      <th>4</th>\n",
       "      <td>모다모다 제로그레이 블랙샴푸10 더블기획 (300g+300g)</td>\n",
       "      <td>모다모다</td>\n",
       "      <td>78,000\\n원</td>\n",
       "      <td>48,280\\n원</td>\n",
       "      <td>145</td>\n",
       "      <td>4.6</td>\n",
       "      <td>78%</td>\n",
       "      <td>13%</td>\n",
       "      <td>6%</td>\n",
       "      <td>1%</td>\n",
       "      <td>...</td>\n",
       "      <td>4%</td>\n",
       "      <td>sweetvio****</td>\n",
       "      <td>2025.05.06</td>\n",
       "      <td>남편40대되고 흰머리가많아 이걸사줬는데그레이정도는되는것같아요</td>\n",
       "      <td>5점만점에 5점</td>\n",
       "      <td>한달이상사용</td>\n",
       "      <td>보통이에요</td>\n",
       "      <td>보통이에요</td>\n",
       "      <td>보통이에요</td>\n",
       "      <td>보통이에요</td>\n",
       "    </tr>\n",
       "  </tbody>\n",
       "</table>\n",
       "<p>5 rows × 32 columns</p>\n",
       "</div>\n",
       "    <div class=\"colab-df-buttons\">\n",
       "\n",
       "  <div class=\"colab-df-container\">\n",
       "    <button class=\"colab-df-convert\" onclick=\"convertToInteractive('df-3aee0255-6f3c-4791-a9c0-12d90419c532')\"\n",
       "            title=\"Convert this dataframe to an interactive table.\"\n",
       "            style=\"display:none;\">\n",
       "\n",
       "  <svg xmlns=\"http://www.w3.org/2000/svg\" height=\"24px\" viewBox=\"0 -960 960 960\">\n",
       "    <path d=\"M120-120v-720h720v720H120Zm60-500h600v-160H180v160Zm220 220h160v-160H400v160Zm0 220h160v-160H400v160ZM180-400h160v-160H180v160Zm440 0h160v-160H620v160ZM180-180h160v-160H180v160Zm440 0h160v-160H620v160Z\"/>\n",
       "  </svg>\n",
       "    </button>\n",
       "\n",
       "  <style>\n",
       "    .colab-df-container {\n",
       "      display:flex;\n",
       "      gap: 12px;\n",
       "    }\n",
       "\n",
       "    .colab-df-convert {\n",
       "      background-color: #E8F0FE;\n",
       "      border: none;\n",
       "      border-radius: 50%;\n",
       "      cursor: pointer;\n",
       "      display: none;\n",
       "      fill: #1967D2;\n",
       "      height: 32px;\n",
       "      padding: 0 0 0 0;\n",
       "      width: 32px;\n",
       "    }\n",
       "\n",
       "    .colab-df-convert:hover {\n",
       "      background-color: #E2EBFA;\n",
       "      box-shadow: 0px 1px 2px rgba(60, 64, 67, 0.3), 0px 1px 3px 1px rgba(60, 64, 67, 0.15);\n",
       "      fill: #174EA6;\n",
       "    }\n",
       "\n",
       "    .colab-df-buttons div {\n",
       "      margin-bottom: 4px;\n",
       "    }\n",
       "\n",
       "    [theme=dark] .colab-df-convert {\n",
       "      background-color: #3B4455;\n",
       "      fill: #D2E3FC;\n",
       "    }\n",
       "\n",
       "    [theme=dark] .colab-df-convert:hover {\n",
       "      background-color: #434B5C;\n",
       "      box-shadow: 0px 1px 3px 1px rgba(0, 0, 0, 0.15);\n",
       "      filter: drop-shadow(0px 1px 2px rgba(0, 0, 0, 0.3));\n",
       "      fill: #FFFFFF;\n",
       "    }\n",
       "  </style>\n",
       "\n",
       "    <script>\n",
       "      const buttonEl =\n",
       "        document.querySelector('#df-3aee0255-6f3c-4791-a9c0-12d90419c532 button.colab-df-convert');\n",
       "      buttonEl.style.display =\n",
       "        google.colab.kernel.accessAllowed ? 'block' : 'none';\n",
       "\n",
       "      async function convertToInteractive(key) {\n",
       "        const element = document.querySelector('#df-3aee0255-6f3c-4791-a9c0-12d90419c532');\n",
       "        const dataTable =\n",
       "          await google.colab.kernel.invokeFunction('convertToInteractive',\n",
       "                                                    [key], {});\n",
       "        if (!dataTable) return;\n",
       "\n",
       "        const docLinkHtml = 'Like what you see? Visit the ' +\n",
       "          '<a target=\"_blank\" href=https://colab.research.google.com/notebooks/data_table.ipynb>data table notebook</a>'\n",
       "          + ' to learn more about interactive tables.';\n",
       "        element.innerHTML = '';\n",
       "        dataTable['output_type'] = 'display_data';\n",
       "        await google.colab.output.renderOutput(dataTable, element);\n",
       "        const docLink = document.createElement('div');\n",
       "        docLink.innerHTML = docLinkHtml;\n",
       "        element.appendChild(docLink);\n",
       "      }\n",
       "    </script>\n",
       "  </div>\n",
       "\n",
       "\n",
       "    <div id=\"df-739d9776-60d5-4a67-b18c-1074c42d335d\">\n",
       "      <button class=\"colab-df-quickchart\" onclick=\"quickchart('df-739d9776-60d5-4a67-b18c-1074c42d335d')\"\n",
       "                title=\"Suggest charts\"\n",
       "                style=\"display:none;\">\n",
       "\n",
       "<svg xmlns=\"http://www.w3.org/2000/svg\" height=\"24px\"viewBox=\"0 0 24 24\"\n",
       "     width=\"24px\">\n",
       "    <g>\n",
       "        <path d=\"M19 3H5c-1.1 0-2 .9-2 2v14c0 1.1.9 2 2 2h14c1.1 0 2-.9 2-2V5c0-1.1-.9-2-2-2zM9 17H7v-7h2v7zm4 0h-2V7h2v10zm4 0h-2v-4h2v4z\"/>\n",
       "    </g>\n",
       "</svg>\n",
       "      </button>\n",
       "\n",
       "<style>\n",
       "  .colab-df-quickchart {\n",
       "      --bg-color: #E8F0FE;\n",
       "      --fill-color: #1967D2;\n",
       "      --hover-bg-color: #E2EBFA;\n",
       "      --hover-fill-color: #174EA6;\n",
       "      --disabled-fill-color: #AAA;\n",
       "      --disabled-bg-color: #DDD;\n",
       "  }\n",
       "\n",
       "  [theme=dark] .colab-df-quickchart {\n",
       "      --bg-color: #3B4455;\n",
       "      --fill-color: #D2E3FC;\n",
       "      --hover-bg-color: #434B5C;\n",
       "      --hover-fill-color: #FFFFFF;\n",
       "      --disabled-bg-color: #3B4455;\n",
       "      --disabled-fill-color: #666;\n",
       "  }\n",
       "\n",
       "  .colab-df-quickchart {\n",
       "    background-color: var(--bg-color);\n",
       "    border: none;\n",
       "    border-radius: 50%;\n",
       "    cursor: pointer;\n",
       "    display: none;\n",
       "    fill: var(--fill-color);\n",
       "    height: 32px;\n",
       "    padding: 0;\n",
       "    width: 32px;\n",
       "  }\n",
       "\n",
       "  .colab-df-quickchart:hover {\n",
       "    background-color: var(--hover-bg-color);\n",
       "    box-shadow: 0 1px 2px rgba(60, 64, 67, 0.3), 0 1px 3px 1px rgba(60, 64, 67, 0.15);\n",
       "    fill: var(--button-hover-fill-color);\n",
       "  }\n",
       "\n",
       "  .colab-df-quickchart-complete:disabled,\n",
       "  .colab-df-quickchart-complete:disabled:hover {\n",
       "    background-color: var(--disabled-bg-color);\n",
       "    fill: var(--disabled-fill-color);\n",
       "    box-shadow: none;\n",
       "  }\n",
       "\n",
       "  .colab-df-spinner {\n",
       "    border: 2px solid var(--fill-color);\n",
       "    border-color: transparent;\n",
       "    border-bottom-color: var(--fill-color);\n",
       "    animation:\n",
       "      spin 1s steps(1) infinite;\n",
       "  }\n",
       "\n",
       "  @keyframes spin {\n",
       "    0% {\n",
       "      border-color: transparent;\n",
       "      border-bottom-color: var(--fill-color);\n",
       "      border-left-color: var(--fill-color);\n",
       "    }\n",
       "    20% {\n",
       "      border-color: transparent;\n",
       "      border-left-color: var(--fill-color);\n",
       "      border-top-color: var(--fill-color);\n",
       "    }\n",
       "    30% {\n",
       "      border-color: transparent;\n",
       "      border-left-color: var(--fill-color);\n",
       "      border-top-color: var(--fill-color);\n",
       "      border-right-color: var(--fill-color);\n",
       "    }\n",
       "    40% {\n",
       "      border-color: transparent;\n",
       "      border-right-color: var(--fill-color);\n",
       "      border-top-color: var(--fill-color);\n",
       "    }\n",
       "    60% {\n",
       "      border-color: transparent;\n",
       "      border-right-color: var(--fill-color);\n",
       "    }\n",
       "    80% {\n",
       "      border-color: transparent;\n",
       "      border-right-color: var(--fill-color);\n",
       "      border-bottom-color: var(--fill-color);\n",
       "    }\n",
       "    90% {\n",
       "      border-color: transparent;\n",
       "      border-bottom-color: var(--fill-color);\n",
       "    }\n",
       "  }\n",
       "</style>\n",
       "\n",
       "      <script>\n",
       "        async function quickchart(key) {\n",
       "          const quickchartButtonEl =\n",
       "            document.querySelector('#' + key + ' button');\n",
       "          quickchartButtonEl.disabled = true;  // To prevent multiple clicks.\n",
       "          quickchartButtonEl.classList.add('colab-df-spinner');\n",
       "          try {\n",
       "            const charts = await google.colab.kernel.invokeFunction(\n",
       "                'suggestCharts', [key], {});\n",
       "          } catch (error) {\n",
       "            console.error('Error during call to suggestCharts:', error);\n",
       "          }\n",
       "          quickchartButtonEl.classList.remove('colab-df-spinner');\n",
       "          quickchartButtonEl.classList.add('colab-df-quickchart-complete');\n",
       "        }\n",
       "        (() => {\n",
       "          let quickchartButtonEl =\n",
       "            document.querySelector('#df-739d9776-60d5-4a67-b18c-1074c42d335d button');\n",
       "          quickchartButtonEl.style.display =\n",
       "            google.colab.kernel.accessAllowed ? 'block' : 'none';\n",
       "        })();\n",
       "      </script>\n",
       "    </div>\n",
       "\n",
       "    </div>\n",
       "  </div>\n"
      ],
      "text/plain": [
       "                                  제품명   브랜드         원가        판매가  리뷰수 평균별점  \\\n",
       "0  모다모다 제로그레이 블랙샴푸10 더블기획 (300g+300g)  모다모다  78,000\\n원  48,280\\n원  145  4.6   \n",
       "1  모다모다 제로그레이 블랙샴푸10 더블기획 (300g+300g)  모다모다  78,000\\n원  48,280\\n원  145  4.6   \n",
       "2  모다모다 제로그레이 블랙샴푸10 더블기획 (300g+300g)  모다모다  78,000\\n원  48,280\\n원  145  4.6   \n",
       "3  모다모다 제로그레이 블랙샴푸10 더블기획 (300g+300g)  모다모다  78,000\\n원  48,280\\n원  145  4.6   \n",
       "4  모다모다 제로그레이 블랙샴푸10 더블기획 (300g+300g)  모다모다  78,000\\n원  48,280\\n원  145  4.6   \n",
       "\n",
       "  5점비율 4점비율 3점비율 2점비율  ... 향/다소아쉬워요             작성자        작성일자  \\\n",
       "0  78%  13%   6%   1%  ...       4%           용자입니다  2025.05.19   \n",
       "1  78%  13%   6%   1%  ...       4%             레몽몽  2025.04.28   \n",
       "2  78%  13%   6%   1%  ...       4%  k202401158****  2025.05.16   \n",
       "3  78%  13%   6%   1%  ...       4%  k202401158****  2025.05.10   \n",
       "4  78%  13%   6%   1%  ...       4%    sweetvio****  2025.05.06   \n",
       "\n",
       "                                                  리뷰        별점    사용현황  \\\n",
       "0         일주일째 쓰는중인데 좋은거 같기도하고 아닌것 같기도 하고 한달뒤 후기로..ㄹ  5점만점에 5점           \n",
       "1                    거품이나 향은 무난한데 새치커버력이 홍보대비 좀 아쉽네요  5점만점에 4점           \n",
       "2              얼마전에 구매했는데 쿠폰이 있어서 또 구매했어요 미리 쟁여 둘려구요  5점만점에 5점     재구매   \n",
       "3  염색 하지 않고 몇년째 계속 사용하고 있어요남편 덕분에 알게 되어서 지금까지 같이 ...  5점만점에 5점           \n",
       "4                  남편40대되고 흰머리가많아 이걸사줬는데그레이정도는되는것같아요  5점만점에 5점  한달이상사용   \n",
       "\n",
       "       세정력       자극도        거품        향  \n",
       "0  아주 만족해요  자극없이 순해요  거품이 풍성해요  아주 만족해요  \n",
       "1    보통이에요  자극없이 순해요  거품이 풍성해요  아주 만족해요  \n",
       "2  아주 만족해요  자극없이 순해요  거품이 풍성해요  아주 만족해요  \n",
       "3  아주 만족해요  자극없이 순해요  거품이 풍성해요  아주 만족해요  \n",
       "4    보통이에요     보통이에요     보통이에요    보통이에요  \n",
       "\n",
       "[5 rows x 32 columns]"
      ]
     },
     "execution_count": 6,
     "metadata": {},
     "output_type": "execute_result"
    }
   ],
   "source": [
    "df.head()"
   ]
  },
  {
   "cell_type": "code",
   "execution_count": 7,
   "metadata": {
    "colab": {
     "base_uri": "https://localhost:8080/"
    },
    "executionInfo": {
     "elapsed": 4,
     "status": "ok",
     "timestamp": 1749692616662,
     "user": {
      "displayName": "melon",
      "userId": "16479606032837208631"
     },
     "user_tz": -540
    },
    "id": "5Jm_oxxlOY85",
    "outputId": "5e77153c-a77b-4f73-9266-4e1416dc805d"
   },
   "outputs": [
    {
     "data": {
      "text/plain": [
       "Index(['제품명', '브랜드', '원가', '판매가', '리뷰수', '평균별점', '5점비율', '4점비율', '3점비율',\n",
       "       '2점비율', '1점비율', '세정력/아주만족해요', '세정력/보통이에요', '세정력/다소아쉬워요', '자극도/자극없이순해요',\n",
       "       '자극도/보통이에요', '자극도/자극이느껴져요', '거품/거품이풍성해요', '거품/보통이에요', '거품/거품이적어요',\n",
       "       '향/아주만족해요', '향/보통이에요', '향/다소아쉬워요', '작성자', '작성일자', '리뷰', '별점', '사용현황',\n",
       "       '세정력', '자극도', '거품', '향'],\n",
       "      dtype='object')"
      ]
     },
     "execution_count": 7,
     "metadata": {},
     "output_type": "execute_result"
    }
   ],
   "source": [
    "df.columns"
   ]
  },
  {
   "cell_type": "code",
   "execution_count": 8,
   "metadata": {
    "colab": {
     "base_uri": "https://localhost:8080/"
    },
    "executionInfo": {
     "elapsed": 4,
     "status": "ok",
     "timestamp": 1749692617393,
     "user": {
      "displayName": "melon",
      "userId": "16479606032837208631"
     },
     "user_tz": -540
    },
    "id": "4aBcb2akQcSC",
    "outputId": "9bf52289-be4a-4bc4-f05d-d263d39f5c9b"
   },
   "outputs": [
    {
     "data": {
      "text/plain": [
       "(181908, 32)"
      ]
     },
     "execution_count": 8,
     "metadata": {},
     "output_type": "execute_result"
    }
   ],
   "source": [
    "df.shape"
   ]
  },
  {
   "cell_type": "code",
   "execution_count": 9,
   "metadata": {
    "colab": {
     "base_uri": "https://localhost:8080/"
    },
    "executionInfo": {
     "elapsed": 27,
     "status": "ok",
     "timestamp": 1749692618334,
     "user": {
      "displayName": "melon",
      "userId": "16479606032837208631"
     },
     "user_tz": -540
    },
    "id": "ZkG-GfjcQdHy",
    "outputId": "c4c534a3-d74e-44c4-d849-3ead5bf3909e"
   },
   "outputs": [
    {
     "data": {
      "text/plain": [
       "array(['모다모다 제로그레이 블랙샴푸10 더블기획 (300g+300g)',\n",
       "       '라보에이치 두피쿨링&노세범샴푸 탈모증상완화 750ml+100ml 한정기획 / 단품',\n",
       "       '[2024 어워즈 샴푸 2위] 어노브 딥 데미지 리페어 샴푸 500g 2입',\n",
       "       '[카이스트특허기술] 그래비티 헤어리프팅 샴푸 엑스트라 스트롱 475ml (단품/증정기획)',\n",
       "       '[5월 올영픽] 롱테이크 샴푸 300+100ML 기획 외 단품 2종 택 1',\n",
       "       '라보에이치 탈모증상완화 샴푸 750ml (두피강화) 한정기획/단품 택1',\n",
       "       '[1등비듬가려움샴푸] 라우쉬 콜츠푸트 안티-댄드러프 샴푸 200ml 듀오 기획',\n",
       "       '[NEW/탈모증상완화] 하아르 닥터란 계란유래단백질 샴푸 500ml',\n",
       "       '[1위 다시마샴푸] 청미정 다시마 샴푸 500ml (단품/기획)',\n",
       "       '모다모다 제로그레이 블랙샴푸10 300g기획 (+10일 kit 증정)'], dtype=object)"
      ]
     },
     "execution_count": 9,
     "metadata": {},
     "output_type": "execute_result"
    }
   ],
   "source": [
    "df[\"제품명\"].unique()[:10]"
   ]
  },
  {
   "cell_type": "code",
   "execution_count": 10,
   "metadata": {
    "colab": {
     "base_uri": "https://localhost:8080/",
     "height": 489
    },
    "executionInfo": {
     "elapsed": 67,
     "status": "ok",
     "timestamp": 1749692618671,
     "user": {
      "displayName": "melon",
      "userId": "16479606032837208631"
     },
     "user_tz": -540
    },
    "id": "UUXnXbrAQdPy",
    "outputId": "29cc77ed-4546-4bd8-fc12-5013af9ed210"
   },
   "outputs": [
    {
     "data": {
      "text/html": [
       "<div>\n",
       "<style scoped>\n",
       "    .dataframe tbody tr th:only-of-type {\n",
       "        vertical-align: middle;\n",
       "    }\n",
       "\n",
       "    .dataframe tbody tr th {\n",
       "        vertical-align: top;\n",
       "    }\n",
       "\n",
       "    .dataframe thead th {\n",
       "        text-align: right;\n",
       "    }\n",
       "</style>\n",
       "<table border=\"1\" class=\"dataframe\">\n",
       "  <thead>\n",
       "    <tr style=\"text-align: right;\">\n",
       "      <th></th>\n",
       "      <th>제품명</th>\n",
       "    </tr>\n",
       "    <tr>\n",
       "      <th>브랜드</th>\n",
       "      <th></th>\n",
       "    </tr>\n",
       "  </thead>\n",
       "  <tbody>\n",
       "    <tr>\n",
       "      <th>CKD</th>\n",
       "      <td>45</td>\n",
       "    </tr>\n",
       "    <tr>\n",
       "      <th>LBB</th>\n",
       "      <td>169</td>\n",
       "    </tr>\n",
       "    <tr>\n",
       "      <th>TS샴푸</th>\n",
       "      <td>2097</td>\n",
       "    </tr>\n",
       "    <tr>\n",
       "      <th>그래비티</th>\n",
       "      <td>800</td>\n",
       "    </tr>\n",
       "    <tr>\n",
       "      <th>그로우어스</th>\n",
       "      <td>5810</td>\n",
       "    </tr>\n",
       "    <tr>\n",
       "      <th>...</th>\n",
       "      <td>...</td>\n",
       "    </tr>\n",
       "    <tr>\n",
       "      <th>헉슬리</th>\n",
       "      <td>119</td>\n",
       "    </tr>\n",
       "    <tr>\n",
       "      <th>헤드스파7</th>\n",
       "      <td>1383</td>\n",
       "    </tr>\n",
       "    <tr>\n",
       "      <th>헤드앤숄더</th>\n",
       "      <td>2528</td>\n",
       "    </tr>\n",
       "    <tr>\n",
       "      <th>헤어플러스</th>\n",
       "      <td>3242</td>\n",
       "    </tr>\n",
       "    <tr>\n",
       "      <th>힐링버드</th>\n",
       "      <td>1451</td>\n",
       "    </tr>\n",
       "  </tbody>\n",
       "</table>\n",
       "<p>126 rows × 1 columns</p>\n",
       "</div><br><label><b>dtype:</b> int64</label>"
      ],
      "text/plain": [
       "브랜드\n",
       "CKD        45\n",
       "LBB       169\n",
       "TS샴푸     2097\n",
       "그래비티      800\n",
       "그로우어스    5810\n",
       "         ... \n",
       "헉슬리       119\n",
       "헤드스파7    1383\n",
       "헤드앤숄더    2528\n",
       "헤어플러스    3242\n",
       "힐링버드     1451\n",
       "Name: 제품명, Length: 126, dtype: int64"
      ]
     },
     "execution_count": 10,
     "metadata": {},
     "output_type": "execute_result"
    }
   ],
   "source": [
    "df.groupby(\"브랜드\")[\"제품명\"].count()"
   ]
  },
  {
   "cell_type": "code",
   "execution_count": null,
   "metadata": {
    "id": "1wI-QZdWQp5q"
   },
   "outputs": [],
   "source": [
    "temp_brand = [\"TS샴푸\", \"헉슬리\", \"헤드앤숄더\", \"그래비티\"]"
   ]
  },
  {
   "cell_type": "code",
   "execution_count": null,
   "metadata": {
    "colab": {
     "base_uri": "https://localhost:8080/"
    },
    "executionInfo": {
     "elapsed": 33,
     "status": "ok",
     "timestamp": 1749297787365,
     "user": {
      "displayName": "melon",
      "userId": "16479606032837208631"
     },
     "user_tz": -540
    },
    "id": "QU9MjXheRNQs",
    "outputId": "44994d4c-15ac-4f21-a77d-bb582c95f6d1"
   },
   "outputs": [
    {
     "data": {
      "text/plain": [
       "array(['[카이스트특허기술] 그래비티 헤어리프팅 샴푸 엑스트라 스트롱 475ml (단품/증정기획)',\n",
       "       '[카이스트특허기술] 그래비티 헤어리프팅 샴푸 스트롱 475ml (단품/증정기획)',\n",
       "       '레몬 샴푸 520mL 2입, 퍼퓸 샴푸 520mL 2입 중 택 1',\n",
       "       '가려운 두피케어샴푸 520mL 2입 기획, 쿨멘솔 520mL 2입 기획 중 택 1',\n",
       "       '헤드앤숄더 샴푸 520ml 2입 기획 4종 택 1',\n",
       "       '[NEW] TS 프리미엄 샴푸 (본품300g+6gx5매 추가 증정)',\n",
       "       '헉슬리 모이스처 샴푸 모로칸 가드너 300ml', '헤드앤숄더 가려운 두피케어 샴푸 850ml',\n",
       "       'TS BD샴푸 500g', 'TS 프리미엄 샴푸 (본품500g+140g+6gx10매 추가 증정)',\n",
       "       '헤드앤숄더 프로페셔널 오일컨트롤 샴푸 300ml',\n",
       "       '헤드앤숄더 프로페셔널 샴푸 300ml 2종 택 1 [가려운 두피케어/오일컨트롤]'], dtype=object)"
      ]
     },
     "execution_count": 20,
     "metadata": {},
     "output_type": "execute_result"
    }
   ],
   "source": [
    "df[df[\"브랜드\"].isin(temp_brand)][\"제품명\"].unique()"
   ]
  },
  {
   "cell_type": "code",
   "execution_count": null,
   "metadata": {
    "id": "1jFFBJeAUCQl"
   },
   "outputs": [],
   "source": []
  },
  {
   "cell_type": "code",
   "execution_count": null,
   "metadata": {
    "colab": {
     "base_uri": "https://localhost:8080/",
     "height": 428
    },
    "executionInfo": {
     "elapsed": 183,
     "status": "ok",
     "timestamp": 1749282473148,
     "user": {
      "displayName": "melon",
      "userId": "16479606032837208631"
     },
     "user_tz": -540
    },
    "id": "_ec-8M3sWaMj",
    "outputId": "16efc6df-2d1a-473d-cc85-500e88ba4925"
   },
   "outputs": [
    {
     "data": {
      "text/html": [
       "<div>\n",
       "<style scoped>\n",
       "    .dataframe tbody tr th:only-of-type {\n",
       "        vertical-align: middle;\n",
       "    }\n",
       "\n",
       "    .dataframe tbody tr th {\n",
       "        vertical-align: top;\n",
       "    }\n",
       "\n",
       "    .dataframe thead th {\n",
       "        text-align: right;\n",
       "    }\n",
       "</style>\n",
       "<table border=\"1\" class=\"dataframe\">\n",
       "  <thead>\n",
       "    <tr style=\"text-align: right;\">\n",
       "      <th></th>\n",
       "      <th>리뷰</th>\n",
       "    </tr>\n",
       "  </thead>\n",
       "  <tbody>\n",
       "    <tr>\n",
       "      <th>6455</th>\n",
       "      <td>청미정 제품 중에 흑곡샴푸, 다시마 트리트먼트, 선인장 앰플 써봤는데 제품이 천연제품이고 순하고 좋더라구요. 제가 항상 쓰던 브랜드가 있었는데 어느 순간부터 두피가 아프면서 뾰루지가 나고 두피 상태가 안 좋다는 걸 감지하고 나서 바로 청미정 제품을 쓰게 되었습니다. 쓴 지는 한 이년 정도 된 거 같아요. 그러다가 다시마 샴푸가 궁금했는데 마침 올영에서 행사를 하여 바로 구매했습니다. 흑곡샴푸를 썼던 가장 큰 이유 중에 하나는 다시마 샴푸가 세정력이 약하다는 리뷰를 보고 고민을 많이 했었습니다. 마침 흑곡샴푸도 많이 남아 있던 터라 안 맞으면 바로 흑곡으로 써야지 하는 마음으로 일단 구매해보았습니다. 세정력부터 말씀 드리면, 세정력 좋습니다. 제가 지루성 두피염이 있고 기름이 잘 지는 두피라서 세정력이 좋지 않으면 하루종일 떡진 머리로 살아야 하는데 그러면 너무 힘들더라구요 ㅠ 진짜 왠만한 샴푸들 시중에 나와 있는거 세정력 좋다 해도 다 떡지고 너무 힘들었는데 다시마 샴푸 썼는데 그 부분 때문에 걱정하고 안 쓴거였는데 괜한 걱정이었구나 생각이 들었습니다. 일단 거품이 진짜 잘 나더라구요 거품 안 날까봐 이거 한통 엄청 금방 쓰겠다 싶었는데 거품이 진짜 잘나요. 그래서 거의 두번 펌프질 해도 단발머리 감을 수 있어요! 두피가 깨끗하게 잘 씻기는 느낌이 듭니다.  그리고 제가 두피가 지루성 두피염이 있다고 말씀 드렸는데 두피에 거의 자극이 없습니다. 저는 안 맞는 샴푸 쓰면 바로 빨갛게 올라오는데 이 샴푸 쓰고 나서 그런게 없어졌어요! 순해서 자극 거의 없다고 보시면 될 거 같아요 ^^  제가 직모라서 항상 펌을 하는데 이것도 샴푸를 잘 못 쓰면 펌을 해도 컬이 안 살아서 축 져지는데 이 샴푸는 컬 유지해주고 두피쪽에도 뿌리가 살아 있다고 해야 하나? 머리카락이 축 늘어지는 느낌이 없더라구요. 이것 또한 너무 만족하면서 쓰고 있습니다. 트리트먼트를 쓰지 않아도 자연스러운 컬도 유지해주고 뻣뻣하지 않고 부드러워 보입니다. 다시마 성분이 들어가서 그런가? 생각이 더 들게 하더라구요.  전반적으로 다시마샴품 너무 좋습니다. 흑곡샴푸도 좋은데 비교하자면 세정력은 흑곡이 더 좋은 거 같지만 성분 자체로만 봤을 때는 다시마샴푸가 더 좋은 거 같아요. 지금 남아 있는 흑곡샴푸 마저 쓰고 다시마샴푸로 전환해도 되겠다 싶더라구요 ^^  그리고 제가 요즘 탈모로 고민 중인데 사진 보시면 알겠지만 머리가 자라나더라구요. 지금 흑곡은 이미 쓰고 있었고 다시마 샴푸로 바꾼지 거의 3,4주 되어 가는 거 같은데 머리카락이 자라더라구요. 두꺼운 머리카락인거 같아요. 워낙 머리카락이 얇았는데 뭔가 솟아 나오는 머리카락들 보니까 두껍게 자라더라구요. 계속 꾸준히 잘 사용해 봐야겠다 싶었습니다.</td>\n",
       "    </tr>\n",
       "  </tbody>\n",
       "</table>\n",
       "</div><br><label><b>dtype:</b> object</label>"
      ],
      "text/plain": [
       "6455    청미정 제품 중에 흑곡샴푸, 다시마 트리트먼트, 선인장 앰플 써봤는데 제품이 천연제품이고 순하고 좋더라구요. 제가 항상 쓰던 브랜드가 있었는데 어느 순간부터 두피가 아프면서 뾰루지가 나고 두피 상태가 안 좋다는 걸 감지하고 나서 바로 청미정 제품을 쓰게 되었습니다. 쓴 지는 한 이년 정도 된 거 같아요. 그러다가 다시마 샴푸가 궁금했는데 마침 올영에서 행사를 하여 바로 구매했습니다. 흑곡샴푸를 썼던 가장 큰 이유 중에 하나는 다시마 샴푸가 세정력이 약하다는 리뷰를 보고 고민을 많이 했었습니다. 마침 흑곡샴푸도 많이 남아 있던 터라 안 맞으면 바로 흑곡으로 써야지 하는 마음으로 일단 구매해보았습니다. 세정력부터 말씀 드리면, 세정력 좋습니다. 제가 지루성 두피염이 있고 기름이 잘 지는 두피라서 세정력이 좋지 않으면 하루종일 떡진 머리로 살아야 하는데 그러면 너무 힘들더라구요 ㅠ 진짜 왠만한 샴푸들 시중에 나와 있는거 세정력 좋다 해도 다 떡지고 너무 힘들었는데 다시마 샴푸 썼는데 그 부분 때문에 걱정하고 안 쓴거였는데 괜한 걱정이었구나 생각이 들었습니다. 일단 거품이 진짜 잘 나더라구요 거품 안 날까봐 이거 한통 엄청 금방 쓰겠다 싶었는데 거품이 진짜 잘나요. 그래서 거의 두번 펌프질 해도 단발머리 감을 수 있어요! 두피가 깨끗하게 잘 씻기는 느낌이 듭니다.  그리고 제가 두피가 지루성 두피염이 있다고 말씀 드렸는데 두피에 거의 자극이 없습니다. 저는 안 맞는 샴푸 쓰면 바로 빨갛게 올라오는데 이 샴푸 쓰고 나서 그런게 없어졌어요! 순해서 자극 거의 없다고 보시면 될 거 같아요 ^^  제가 직모라서 항상 펌을 하는데 이것도 샴푸를 잘 못 쓰면 펌을 해도 컬이 안 살아서 축 져지는데 이 샴푸는 컬 유지해주고 두피쪽에도 뿌리가 살아 있다고 해야 하나? 머리카락이 축 늘어지는 느낌이 없더라구요. 이것 또한 너무 만족하면서 쓰고 있습니다. 트리트먼트를 쓰지 않아도 자연스러운 컬도 유지해주고 뻣뻣하지 않고 부드러워 보입니다. 다시마 성분이 들어가서 그런가? 생각이 더 들게 하더라구요.  전반적으로 다시마샴품 너무 좋습니다. 흑곡샴푸도 좋은데 비교하자면 세정력은 흑곡이 더 좋은 거 같지만 성분 자체로만 봤을 때는 다시마샴푸가 더 좋은 거 같아요. 지금 남아 있는 흑곡샴푸 마저 쓰고 다시마샴푸로 전환해도 되겠다 싶더라구요 ^^  그리고 제가 요즘 탈모로 고민 중인데 사진 보시면 알겠지만 머리가 자라나더라구요. 지금 흑곡은 이미 쓰고 있었고 다시마 샴푸로 바꾼지 거의 3,4주 되어 가는 거 같은데 머리카락이 자라더라구요. 두꺼운 머리카락인거 같아요. 워낙 머리카락이 얇았는데 뭔가 솟아 나오는 머리카락들 보니까 두껍게 자라더라구요. 계속 꾸준히 잘 사용해 봐야겠다 싶었습니다.\n",
       "Name: 리뷰, dtype: object"
      ]
     },
     "execution_count": 38,
     "metadata": {},
     "output_type": "execute_result"
    }
   ],
   "source": [
    "pd.set_option('display.max_colwidth', None)\n",
    "maxlen = df[\"리뷰\"].map(lambda x: len(x)).max()\n",
    "df[df[\"리뷰\"].map(lambda x: len(x)) == maxlen][\"리뷰\"]"
   ]
  },
  {
   "cell_type": "markdown",
   "metadata": {
    "id": "H1SrjvvwRtGn"
   },
   "source": [
    "# maxlen 분포\n",
    "\n",
    "- electra 와 roberta 의 tokenizer 로 리뷰 길이 분포 파악"
   ]
  },
  {
   "cell_type": "code",
   "execution_count": 11,
   "metadata": {
    "colab": {
     "base_uri": "https://localhost:8080/",
     "height": 370,
     "referenced_widgets": [
      "601d0007218540bc915a17d47129124e",
      "380c1c51253948d1a7d93c2e5405a3b7",
      "0e00bf0681584312aeed35421626fa69",
      "e4628cb4916146eabe63a793c3591d0f",
      "492da8cca6b84323a1d278cbeac08c5b",
      "c4bd087e8d204298993f57253434a260",
      "e84a1c7a2f5a470abfdc25fc5b4e8d50",
      "cc6eb58e66a745a88f0a2a49c13a6601",
      "0960494eb5dc441a8a0e3ae11d7d6d61",
      "d30d8ad9abc141e688e9a4bacc56897e",
      "28c120a12a574d01a3022c19634727d9",
      "b9a433bc00794810b06eb89b16f6ef99",
      "298d778d7b2f494aa99489d0346df28d",
      "505bcb18944f4d74a04a210c585eb952",
      "d287e78238a04fa191b74b04a1036068",
      "3ac536769aa947009953b848cc5d5bf0",
      "b7711b214c364cc98cee70ddd2ec4a36",
      "d78770ecccb646f5ba3431014de267b3",
      "a90d8b03992543d597ac51a269da9491",
      "9e773b15ab8146709cad3a5bdaca01d8",
      "b485a38af04541c1b57c4e17536d4e91",
      "c02b69dd61ef4f42bfce7225d0b2faa1",
      "4b7cfe6b5a7e419681784a82d0922ebf",
      "cd706bf68aae44258fcff1fa5a7e89fa",
      "cd0b8b45215d4ecfab49b051b03de190",
      "2ae43083c881421ea76d021be0786e3f",
      "6202657f37eb47ecb691d249351bc8f2",
      "ec697421309846f88c0f250e8ef38345",
      "edb09881bea54df59e154933e4946d57",
      "fdc99f69fcd343dbaf77fda9781d303b",
      "5cd06a8f65a9439cba1a9efad0943d75",
      "44b84278c5234a809d91dcd513e89bc3",
      "96464feb8c874522813cebfb55abdb08",
      "dd417e03778c4a938e9b963d75a585bf",
      "5291f31172b4457eafbdc0955619c021",
      "d2c1f29b3ab14e7e800f09ec6098e51e",
      "5846e8b3f9e54ca68c6dc7012bc38f96",
      "1aee781cf221425ca71eddc6df6452ac",
      "6af061aa28124016a9bf34f5d5543e79",
      "a51a0527d8fb41d09f58e22b2730785a",
      "122b063c68094b4392d38fea26190d48",
      "32b29fe1b01c4824bc4e707747ddab0b",
      "55696962e352400b90246604a2f9b654",
      "b93e4af4aaae4235bec9c5d96e34d4a7",
      "a8322ff4d3934cd2ad950d34b58b0471",
      "cc5405aef8b14aeeaa1452ff549bbcf9",
      "7d22ed3d62f6476696386f52e29d3f81",
      "a0be476e28f34c9f93f6f6c688ab8d78",
      "7d36d0652100468b84fb59cdf185d3c2",
      "5a431ff03b8748cbbb8ddd58a53fc6f1",
      "20fd5ee35d1e42d094062ef50a5249a5",
      "dd38531606204959bcefefd5d1bd7a32",
      "dbe406ca47384b0383d401159cc4eede",
      "a7be0de545e44abea0c4c31b8c751b50",
      "d881202d28c34b12980b40f955f19e43",
      "962f51f3c5f94ece97b63a698cbf375e",
      "939403a67eb440ae8ec9b531b23fdda0",
      "a9f243571c794afb8a68d8bd37dacc7d",
      "4a92bba52b4547f9a283727dde92a293",
      "ea5089be86394d69833af1091dc3887f",
      "1c5e761f32b44067bc332ecac344d8c4",
      "7c5763bc173043d8b84dd5dc35a7441c",
      "9da55ba00fa1445a9b7a7bc6d301b8eb",
      "6a45461b102240739fff7b89fb56f996",
      "4ed09360be234d5d96d9f508a1c887c7",
      "247b195241b5498eb2de902e0944efe5",
      "f619a04af5014077906ac4285dd45de0",
      "69917bb399c74fac833cba7fe84e5284",
      "13dfc618afcc4307822866f86535c204",
      "77c6b87adbd340aaaf656bd9f2868874",
      "7ea5aae9a5bc4f848499d6ff61e751db",
      "2e31e0b344734398ab5e821b9b52252f",
      "e94ee19bff4a458ab6db39dd790c0d3b",
      "e2c1677a8ce047df8dca204e774f0eb8",
      "c77532ecc70f478dafe5d6684f9527b9",
      "0779160c00e14575917517dc204d3eb2",
      "3db7f1fe691a415da55855abdb0c1e31"
     ]
    },
    "executionInfo": {
     "elapsed": 6212,
     "status": "ok",
     "timestamp": 1749692633071,
     "user": {
      "displayName": "melon",
      "userId": "16479606032837208631"
     },
     "user_tz": -540
    },
    "id": "KQKFoCIa07Ck",
    "outputId": "de4af05c-4428-4fa8-adcd-63f321ade282"
   },
   "outputs": [
    {
     "name": "stderr",
     "output_type": "stream",
     "text": [
      "/usr/local/lib/python3.11/dist-packages/huggingface_hub/utils/_auth.py:94: UserWarning: \n",
      "The secret `HF_TOKEN` does not exist in your Colab secrets.\n",
      "To authenticate with the Hugging Face Hub, create a token in your settings tab (https://huggingface.co/settings/tokens), set it as secret in your Google Colab and restart your session.\n",
      "You will be able to reuse this secret in all of your notebooks.\n",
      "Please note that authentication is recommended but still optional to access public models or datasets.\n",
      "  warnings.warn(\n"
     ]
    },
    {
     "data": {
      "application/vnd.jupyter.widget-view+json": {
       "model_id": "601d0007218540bc915a17d47129124e",
       "version_major": 2,
       "version_minor": 0
      },
      "text/plain": [
       "tokenizer_config.json:   0%|          | 0.00/80.0 [00:00<?, ?B/s]"
      ]
     },
     "metadata": {},
     "output_type": "display_data"
    },
    {
     "data": {
      "application/vnd.jupyter.widget-view+json": {
       "model_id": "b9a433bc00794810b06eb89b16f6ef99",
       "version_major": 2,
       "version_minor": 0
      },
      "text/plain": [
       "config.json:   0%|          | 0.00/620 [00:00<?, ?B/s]"
      ]
     },
     "metadata": {},
     "output_type": "display_data"
    },
    {
     "data": {
      "application/vnd.jupyter.widget-view+json": {
       "model_id": "4b7cfe6b5a7e419681784a82d0922ebf",
       "version_major": 2,
       "version_minor": 0
      },
      "text/plain": [
       "vocab.txt:   0%|          | 0.00/344k [00:00<?, ?B/s]"
      ]
     },
     "metadata": {},
     "output_type": "display_data"
    },
    {
     "data": {
      "application/vnd.jupyter.widget-view+json": {
       "model_id": "dd417e03778c4a938e9b963d75a585bf",
       "version_major": 2,
       "version_minor": 0
      },
      "text/plain": [
       "tokenizer_config.json:   0%|          | 0.00/375 [00:00<?, ?B/s]"
      ]
     },
     "metadata": {},
     "output_type": "display_data"
    },
    {
     "data": {
      "application/vnd.jupyter.widget-view+json": {
       "model_id": "a8322ff4d3934cd2ad950d34b58b0471",
       "version_major": 2,
       "version_minor": 0
      },
      "text/plain": [
       "vocab.txt:   0%|          | 0.00/248k [00:00<?, ?B/s]"
      ]
     },
     "metadata": {},
     "output_type": "display_data"
    },
    {
     "data": {
      "application/vnd.jupyter.widget-view+json": {
       "model_id": "962f51f3c5f94ece97b63a698cbf375e",
       "version_major": 2,
       "version_minor": 0
      },
      "text/plain": [
       "tokenizer.json:   0%|          | 0.00/752k [00:00<?, ?B/s]"
      ]
     },
     "metadata": {},
     "output_type": "display_data"
    },
    {
     "data": {
      "application/vnd.jupyter.widget-view+json": {
       "model_id": "f619a04af5014077906ac4285dd45de0",
       "version_major": 2,
       "version_minor": 0
      },
      "text/plain": [
       "special_tokens_map.json:   0%|          | 0.00/173 [00:00<?, ?B/s]"
      ]
     },
     "metadata": {},
     "output_type": "display_data"
    }
   ],
   "source": [
    "acd_tokenizer = AutoTokenizer.from_pretrained(acd_base_model)\n",
    "asc_tokenizer = AutoTokenizer.from_pretrained(asc_base_model)"
   ]
  },
  {
   "cell_type": "code",
   "execution_count": 12,
   "metadata": {
    "colab": {
     "base_uri": "https://localhost:8080/"
    },
    "executionInfo": {
     "elapsed": 56813,
     "status": "ok",
     "timestamp": 1749692689924,
     "user": {
      "displayName": "melon",
      "userId": "16479606032837208631"
     },
     "user_tz": -540
    },
    "id": "io9nHOKYSxRB",
    "outputId": "6ad2010a-02a4-4705-9937-2ec2c755fb58"
   },
   "outputs": [
    {
     "name": "stderr",
     "output_type": "stream",
     "text": [
      "Token indices sequence length is longer than the specified maximum sequence length for this model (550 > 512). Running this sequence through the model will result in indexing errors\n"
     ]
    }
   ],
   "source": [
    "# acd_tokenizer\n",
    "acd_tokenized_len = []\n",
    "for text in df[\"리뷰\"]:\n",
    "  acd_encoded = acd_tokenizer(\n",
    "      text,\n",
    "      padding=False,\n",
    "      truncation=False,\n",
    "      return_tensors='pt',\n",
    "      add_special_tokens=True\n",
    "          )\n",
    "\n",
    "  input_ids = acd_encoded['input_ids'][0].tolist()\n",
    "  acd_tokenized_len.append(len(input_ids))"
   ]
  },
  {
   "cell_type": "code",
   "execution_count": 13,
   "metadata": {
    "colab": {
     "base_uri": "https://localhost:8080/"
    },
    "executionInfo": {
     "elapsed": 5,
     "status": "ok",
     "timestamp": 1749692689931,
     "user": {
      "displayName": "melon",
      "userId": "16479606032837208631"
     },
     "user_tz": -540
    },
    "id": "RLRrnPYHTGBt",
    "outputId": "a049fb8f-9023-49f7-83a4-7d73e53dac44"
   },
   "outputs": [
    {
     "data": {
      "text/plain": [
       "181908"
      ]
     },
     "execution_count": 13,
     "metadata": {},
     "output_type": "execute_result"
    }
   ],
   "source": [
    "len(acd_tokenized_len)"
   ]
  },
  {
   "cell_type": "code",
   "execution_count": null,
   "metadata": {
    "id": "URCRaeFvXPSt"
   },
   "outputs": [],
   "source": [
    "maxlen_text = \"청미정 제품 중에 흑곡샴푸, 다시마 트리트먼트, 선인장 앰플 써봤는데 제품이 천연제품이고 순하고 좋더라구요. 제가 항상 쓰던 브랜드가 있었는데 어느 순간부터 두피가 아프면서 뾰루지가 나고 두피 상태가 안 좋다는 걸 감지하고 나서 바로 청미정 제품을 쓰게 되었습니다. 쓴 지는 한 이년 정도 된 거 같아요. 그러다가 다시마 샴푸가 궁금했는데 마침 올영에서 행사를 하여 바로 구매했습니다. 흑곡샴푸를 썼던 가장 큰 이유 중에 하나는 다시마 샴푸가 세정력이 약하다는 리뷰를 보고 고민을 많이 했었습니다. 마침 흑곡샴푸도 많이 남아 있던 터라 안 맞으면 바로 흑곡으로 써야지 하는 마음으로 일단 구매해보았습니다. 세정력부터 말씀 드리면, 세정력 좋습니다. 제가 지루성 두피염이 있고 기름이 잘 지는 두피라서 세정력이 좋지 않으면 하루종일 떡진 머리로 살아야 하는데 그러면 너무 힘들더라구요 ㅠ 진짜 왠만한 샴푸들 시중에 나와 있는거 세정력 좋다 해도 다 떡지고 너무 힘들었는데 다시마 샴푸 썼는데 그 부분 때문에 걱정하고 안 쓴거였는데 괜한 걱정이었구나 생각이 들었습니다. 일단 거품이 진짜 잘 나더라구요 거품 안 날까봐 이거 한통 엄청 금방 쓰겠다 싶었는데 거품이 진짜 잘나요. 그래서 거의 두번 펌프질 해도 단발머리 감을 수 있어요! 두피가 깨끗하게 잘 씻기는 느낌이 듭니다. 그리고 제가 두피가 지루성 두피염이 있다고 말씀 드렸는데 두피에 거의 자극이 없습니다. 저는 안 맞는 샴푸 쓰면 바로 빨갛게 올라오는데 이 샴푸 쓰고 나서 그런게 없어졌어요! 순해서 자극 거의 없다고 보시면 될 거 같아요 ^^ 제가 직모라서 항상 펌을 하는데 이것도 샴푸를 잘 못 쓰면 펌을 해도 컬이 안 살아서 축 져지는데 이 샴푸는 컬 유지해주고 두피쪽에도 뿌리가 살아 있다고 해야 하나? 머리카락이 축 늘어지는 느낌이 없더라구요. 이것 또한 너무 만족하면서 쓰고 있습니다. 트리트먼트를 쓰지 않아도 자연스러운 컬도 유지해주고 뻣뻣하지 않고 부드러워 보입니다. 다시마 성분이 들어가서 그런가? 생각이 더 들게 하더라구요. 전반적으로 다시마샴품 너무 좋습니다. 흑곡샴푸도 좋은데 비교하자면 세정력은 흑곡이 더 좋은 거 같지만 성분 자체로만 봤을 때는 다시마샴푸가 더 좋은 거 같아요. 지금 남아 있는 흑곡샴푸 마저 쓰고 다시마샴푸로 전환해도 되겠다 싶더라구요 ^^ 그리고 제가 요즘 탈모로 고민 중인데 사진 보시면 알겠지만 머리가 자라나더라구요. 지금 흑곡은 이미 쓰고 있었고 다시마 샴푸로 바꾼지 거의 3,4주 되어 가는 거 같은데 머리카락이 자라더라구요. 두꺼운 머리카락인거 같아요. 워낙 머리카락이 얇았는데 뭔가 솟아 나오는 머리카락들 보니까 두껍게 자라더라구요. 계속 꾸준히 잘 사용해 봐야겠다 싶었습니다.\""
   ]
  },
  {
   "cell_type": "code",
   "execution_count": null,
   "metadata": {
    "colab": {
     "base_uri": "https://localhost:8080/"
    },
    "executionInfo": {
     "elapsed": 5,
     "status": "ok",
     "timestamp": 1749536567414,
     "user": {
      "displayName": "melon",
      "userId": "16479606032837208631"
     },
     "user_tz": -540
    },
    "id": "vGsrPhC0Xjam",
    "outputId": "67c3637f-b21a-47f9-d7a8-2258c0e25642"
   },
   "outputs": [
    {
     "data": {
      "text/plain": [
       "1337"
      ]
     },
     "execution_count": 13,
     "metadata": {},
     "output_type": "execute_result"
    }
   ],
   "source": [
    "len(maxlen_text)"
   ]
  },
  {
   "cell_type": "code",
   "execution_count": null,
   "metadata": {
    "colab": {
     "base_uri": "https://localhost:8080/",
     "height": 219
    },
    "executionInfo": {
     "elapsed": 11,
     "status": "error",
     "timestamp": 1749536473676,
     "user": {
      "displayName": "melon",
      "userId": "16479606032837208631"
     },
     "user_tz": -540
    },
    "id": "6v3raFdhXSiU",
    "outputId": "9ab37eb5-cbcc-4fe6-ec88-49f4304210fa"
   },
   "outputs": [],
   "source": [
    "acd_encoded = acd_tokenizer(\n",
    "      maxlen_text,\n",
    "      padding=False,\n",
    "      truncation=False,\n",
    "      return_tensors='pt',\n",
    "      add_special_tokens=True\n",
    "          )\n",
    "input_ids = acd_encoded['input_ids'][0].tolist()\n",
    "len(input_ids)"
   ]
  },
  {
   "cell_type": "code",
   "execution_count": null,
   "metadata": {
    "colab": {
     "base_uri": "https://localhost:8080/"
    },
    "executionInfo": {
     "elapsed": 24,
     "status": "ok",
     "timestamp": 1749284631403,
     "user": {
      "displayName": "melon",
      "userId": "16479606032837208631"
     },
     "user_tz": -540
    },
    "id": "yeUXbbvsXsYl",
    "outputId": "b5bd304c-a05e-4eab-d239-9dded7926419"
   },
   "outputs": [
    {
     "data": {
      "text/plain": [
       "468"
      ]
     },
     "execution_count": 51,
     "metadata": {},
     "output_type": "execute_result"
    }
   ],
   "source": [
    "len(acd_tokenizer.tokenize(maxlen_text))"
   ]
  },
  {
   "cell_type": "code",
   "execution_count": null,
   "metadata": {
    "colab": {
     "base_uri": "https://localhost:8080/"
    },
    "executionInfo": {
     "elapsed": 18,
     "status": "ok",
     "timestamp": 1749536684296,
     "user": {
      "displayName": "melon",
      "userId": "16479606032837208631"
     },
     "user_tz": -540
    },
    "id": "BBlR-x1IVFE4",
    "outputId": "def900fa-613a-4b93-d7b8-d43ddc049534"
   },
   "outputs": [
    {
     "name": "stdout",
     "output_type": "stream",
     "text": [
      "50.647387690480905 30.0 3 559\n",
      "17.0 63.0\n"
     ]
    }
   ],
   "source": [
    "acd_lengths = np.array(acd_tokenized_len)\n",
    "print(np.mean(acd_lengths), np.median(acd_lengths), np.min(acd_lengths), np.max(acd_lengths))\n",
    "print(np.percentile(acd_lengths, 25), np.percentile(acd_lengths, 75))"
   ]
  },
  {
   "cell_type": "code",
   "execution_count": null,
   "metadata": {
    "colab": {
     "base_uri": "https://localhost:8080/",
     "height": 411
    },
    "executionInfo": {
     "elapsed": 424,
     "status": "ok",
     "timestamp": 1749536837980,
     "user": {
      "displayName": "melon",
      "userId": "16479606032837208631"
     },
     "user_tz": -540
    },
    "id": "f6EdwzeagUCq",
    "outputId": "60b922b0-f9fb-44f9-e052-a44463378a5c"
   },
   "outputs": [
    {
     "data": {
      "image/png": "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\n",
      "text/plain": [
       "<Figure size 640x480 with 1 Axes>"
      ]
     },
     "metadata": {},
     "output_type": "display_data"
    }
   ],
   "source": [
    "plt.figure()\n",
    "sns.boxplot(data = acd_tokenized_len)\n",
    "\n",
    "plt.show()"
   ]
  },
  {
   "cell_type": "code",
   "execution_count": null,
   "metadata": {
    "colab": {
     "base_uri": "https://localhost:8080/",
     "height": 450
    },
    "executionInfo": {
     "elapsed": 266,
     "status": "ok",
     "timestamp": 1749536941376,
     "user": {
      "displayName": "melon",
      "userId": "16479606032837208631"
     },
     "user_tz": -540
    },
    "id": "QxACgP52hmvZ",
    "outputId": "c23b7bbd-5d59-47c4-cc44-d83cf44dc3dc"
   },
   "outputs": [
    {
     "data": {
      "image/png": "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\n",
      "text/plain": [
       "<Figure size 640x480 with 1 Axes>"
      ]
     },
     "metadata": {},
     "output_type": "display_data"
    }
   ],
   "source": [
    "plt.figure()\n",
    "\n",
    "sns.histplot(acd_lengths, bins = 50)\n",
    "\n",
    "plt.xlabel(\"acd_tokenized_length\")\n",
    "plt.ylabel(\"frequency\")\n",
    "plt.show()"
   ]
  },
  {
   "cell_type": "code",
   "execution_count": null,
   "metadata": {
    "colab": {
     "base_uri": "https://localhost:8080/",
     "height": 450
    },
    "executionInfo": {
     "elapsed": 147,
     "status": "ok",
     "timestamp": 1749282393850,
     "user": {
      "displayName": "melon",
      "userId": "16479606032837208631"
     },
     "user_tz": -540
    },
    "id": "W27nB73RV1PX",
    "outputId": "f19d7014-525e-43c9-d8bb-e1bce66a22b9"
   },
   "outputs": [
    {
     "data": {
      "image/png": "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\n",
      "text/plain": [
       "<Figure size 640x480 with 1 Axes>"
      ]
     },
     "metadata": {},
     "output_type": "display_data"
    }
   ],
   "source": [
    "plt.figure()\n",
    "\n",
    "plt.hist(acd_lengths, bins = 50)\n",
    "\n",
    "plt.xlabel(\"acd_tokenized_length\")\n",
    "plt.ylabel(\"frequency\")\n",
    "plt.show()"
   ]
  },
  {
   "cell_type": "code",
   "execution_count": 14,
   "metadata": {
    "colab": {
     "base_uri": "https://localhost:8080/"
    },
    "executionInfo": {
     "elapsed": 59768,
     "status": "ok",
     "timestamp": 1749692764414,
     "user": {
      "displayName": "melon",
      "userId": "16479606032837208631"
     },
     "user_tz": -540
    },
    "id": "ZrNM_asSUD55",
    "outputId": "7344204d-61dd-4d72-f7b1-2f9392a62215"
   },
   "outputs": [
    {
     "name": "stderr",
     "output_type": "stream",
     "text": [
      "Token indices sequence length is longer than the specified maximum sequence length for this model (553 > 512). Running this sequence through the model will result in indexing errors\n"
     ]
    }
   ],
   "source": [
    "# asc_tokenizer\n",
    "asc_tokenized_len = []\n",
    "for text in df[\"리뷰\"]:\n",
    "  asc_encoded = asc_tokenizer(\n",
    "      text,\n",
    "      padding=False,\n",
    "      truncation=False,\n",
    "      return_tensors='pt',\n",
    "      add_special_tokens=True\n",
    "          )\n",
    "\n",
    "  input_ids = asc_encoded['input_ids'][0].tolist()\n",
    "  asc_tokenized_len.append(len(input_ids))"
   ]
  },
  {
   "cell_type": "code",
   "execution_count": 15,
   "metadata": {
    "colab": {
     "base_uri": "https://localhost:8080/"
    },
    "executionInfo": {
     "elapsed": 58,
     "status": "ok",
     "timestamp": 1749692781052,
     "user": {
      "displayName": "melon",
      "userId": "16479606032837208631"
     },
     "user_tz": -540
    },
    "id": "OKSeHp4ZVgZr",
    "outputId": "3f409231-9237-436f-a39e-c1121fecf843"
   },
   "outputs": [
    {
     "data": {
      "text/plain": [
       "181908"
      ]
     },
     "execution_count": 15,
     "metadata": {},
     "output_type": "execute_result"
    }
   ],
   "source": [
    "len(asc_tokenized_len)"
   ]
  },
  {
   "cell_type": "code",
   "execution_count": 16,
   "metadata": {
    "colab": {
     "base_uri": "https://localhost:8080/"
    },
    "executionInfo": {
     "elapsed": 14,
     "status": "ok",
     "timestamp": 1749692782382,
     "user": {
      "displayName": "melon",
      "userId": "16479606032837208631"
     },
     "user_tz": -540
    },
    "id": "R3uMCfVsViOq",
    "outputId": "7d7e2250-71d2-4840-fbec-9824d89fecef"
   },
   "outputs": [
    {
     "name": "stdout",
     "output_type": "stream",
     "text": [
      "74.43400510147987 44.0 3 736\n",
      "26.0 93.0\n"
     ]
    }
   ],
   "source": [
    "asc_lengths = np.array(asc_tokenized_len)\n",
    "print(np.mean(asc_lengths), np.median(asc_lengths), np.min(asc_lengths), np.max(asc_lengths))\n",
    "print(np.percentile(asc_lengths, 25), np.percentile(asc_lengths, 75))"
   ]
  },
  {
   "cell_type": "code",
   "execution_count": 24,
   "metadata": {
    "colab": {
     "base_uri": "https://localhost:8080/",
     "height": 442
    },
    "executionInfo": {
     "elapsed": 505,
     "status": "ok",
     "timestamp": 1749693919925,
     "user": {
      "displayName": "melon",
      "userId": "16479606032837208631"
     },
     "user_tz": -540
    },
    "id": "2u_Vfqohi4vD",
    "outputId": "50695120-7968-4150-a519-1b1e144b6bef"
   },
   "outputs": [
    {
     "data": {
      "image/png": "iVBORw0KGgoAAAANSUhEUgAAAigAAAGpCAYAAACnCc1lAAAAOnRFWHRTb2Z0d2FyZQBNYXRwbG90bGliIHZlcnNpb24zLjEwLjAsIGh0dHBzOi8vbWF0cGxvdGxpYi5vcmcvlHJYcgAAAAlwSFlzAAAPYQAAD2EBqD+naQAANDpJREFUeJzt3Xt4FPW9x/HP5rYhibshgWyIJIB4gSBIT1RYQYkYiTRUPAlUKKVBYmkxcKp45dGiYhUPbUU9XihWAS+USk+RShVFarCnBESsFgEjXhMNCaBml4u5/84fPpmyJmAWgjvZvF/Ps4/s/L4z+50NOJ/MzvzWYYwxAgAAsJGIUDcAAADwTQQUAABgOwQUAABgOwQUAABgOwQUAABgOwQUAABgOwQUAABgO1GhbuB4NDc3q7KyUqeccoocDkeo2wEAAO1gjNGBAweUlpamiIhjnyPplAGlsrJS6enpoW4DAAAch4qKCvXu3fuYNZ0yoJxyyimSvt5Bl8sV4m4AAEB7+P1+paenW8fxY+mUAaXlYx2Xy0VAAQCgk2nP5RlcJAsAAGyHgAIAAGyHgAIAAGyHgAIAAGyHgAIAAGyHgAIAAGyHgAIAAGyHgAIAAGyHgAIAAGynU84kCyA81dfXa82aNaqsrFRaWprGjx+vmJiYULcFIAQIKABsYfHixVq1apWampoClk2cOFE///nPQ9gZgFAgoAAIucWLF2vlypXq3r27ioqK5PV6VVpaqscff1wrV66UJEIK0MU4jDEm1E0Ey+/3y+12y+fz8WWBQCdXX1+vsWPHyuVyadWqVYqK+vfvTY2NjZo4caL8fr9efPFFPu4BOrlgjt9cJAsgpNasWaOmpiYVFRWpublZq1at0gMPPKBVq1apublZ06dPV1NTk9asWRPqVgF8h/iIB0BIVVZWSpJ2796tRYsWtboGJS8vL6AOQNdAQAEQUmlpaZK+PpPSvXt3nXPOOerWrZu++uorvf322/rLX/4SUAega+AaFAAhdfDgQY0bN+5b69auXauEhITvoCMAJwvXoADoNF588UXrzw6HQ5deeqkee+wxXXrppXI4HG3WAQh/fMQDIKQqKiokSTExMWpsbNT69eu1fv16SVJkZKQiIyNVX19v1QHoGjiDAiCkPv/8c0nSgAEDlJycHDCWlJSkAQMGBNQB6Bo4gwIgpHr06CFJ+te//qXo6OiAsZqaGu3bty+gDkDXwBkUACF15N05DQ0NAWNHPucuHqBrIaAACKm+fft2aB2A8EBAARBS//znP60/x8fHKy0tTUlJSUpLS1N8fHybdQDCH9egAAipN998U5IUGxurQ4cO6dChQwHjsbGxqq2tteoAdA0EFAC2UFtbq6ioKCUmJqq5uVkRERGqqalRbW1tqFsDEAIEFAAhdfrpp+u9996T9PW3F+/fv/+odQC6jqCuQenbt68cDkerR3FxsaSvfwMqLi5WcnKyEhISVFBQoOrq6oBtlJeXKy8vT3FxcUpJSdGNN96oxsbGjtsjAJ1KRET7/jfU3joA4SGof/Fbt27Vnj17rEfLbI8TJ06UJF133XV6/vnntWrVKm3cuFGVlZXKz8+31m9qalJeXp7q6+u1adMmLV++XMuWLdO8efM6cJcAdCbt/ZZivs0Y6FqC+oinZ8+eAc/vvfde9e/fX6NGjZLP59Pjjz+uFStWaPTo0ZKkpUuXauDAgdq8ebOGDx+ul19+WTt37tQrr7wij8ejoUOH6q677tLNN9+sO+64QzExMW2+bl1dnerq6qznfr8/2P0EYFMtE7F1VB2A8HDc50zr6+v19NNPa/r06XI4HNq2bZsaGhqUk5Nj1QwYMEAZGRkqLS2VJJWWlmrw4MHyeDxWTW5urvx+v3bs2HHU11qwYIHcbrf1SE9PP962AdhMTU2N9efIyMiAsSOfH1kHIPwdd0B57rnnVFNTo2nTpkmSqqqqFBMTo8TExIA6j8ejqqoqq+bIcNIy3jJ2NHPnzpXP57MefGkYED6MMdafm5qaAsaOfH5kHYDwd9x38Tz++OMaO3bsdzL9tNPplNPpPOmvA+C7l56erl27drWrDkDXcVxnUD755BO98soruvrqq61lqampqq+vb3Uatrq6WqmpqVbNN+/qaXneUgOgaxk4cGCH1gEID8cVUJYuXaqUlBTl5eVZy7KyshQdHa0NGzZYy8rKylReXi6v1ytJ8nq92r59u/bu3WvVrF+/Xi6XS5mZmce7DwA6sc2bN3doHYDwEPRHPM3NzVq6dKkKCwsVFfXv1d1ut4qKijRnzhwlJSXJ5XJp9uzZ8nq9Gj58uCRpzJgxyszM1NSpU7Vw4UJVVVXptttuU3FxMR/hAF3U559/3qF1AMJD0AHllVdeUXl5uaZPn95qbNGiRYqIiFBBQYHq6uqUm5urRx55xBqPjIzU2rVrNXPmTHm9XsXHx6uwsFDz588/sb0A0GkdefFrRESEmpub23zORbJA1+IwnfBfvd/vl9vtls/nk8vlCnU7AE7AxRdf3K7w4XA49Oqrr34HHQE4WYI5fjN3NICQcjgcHVoHIDwQUACE1JHXsnVEHYDwQEABEFINDQ0dWgcgPBBQAIRUey+D64SXywE4AQQUAABgOwQUACEVEdG+/w21tw5AeOBfPICQGjx4cIfWAQgPBBQAIfXee+91aB2A8EBAARBSX331VYfWAQgPBBQAAGA7BBQAAGA7BBQAAGA7BBQAAGA7BBQAAGA7BBQAAGA7BBQAAGA7BBQAIRUZGdmhdQDCAwEFQEg1NTV1aB2A8EBAAQAAtkNAAQAAtkNAAQAAtkNAAQAAtkNAARBSUVFRHVoHIDwQUACEVHNzc4fWAQgPBBQAIUVAAdAWAgqAkGKiNgBtIaAACCkCCoC2EFAAhBQBBUBbCCgAQoqp7gG0hYACIKQiItr3v6H21gEID/yLBxBSDoejQ+sAhAcCCoCQ4jZjAG0hoAAIqejo6A6tAxAeCCgAQio2NrZD6wCEBwIKgJA6/fTTO7QOQHgIOqB89tln+vGPf6zk5GR169ZNgwcP1htvvGGNG2M0b9489erVS926dVNOTo52794dsI0vvvhCU6ZMkcvlUmJiooqKinTw4MET3xsAnc7mzZs7tA5AeAgqoHz55ZcaMWKEoqOj9eKLL2rnzp367W9/q+7du1s1Cxcu1IMPPqjFixdry5Ytio+PV25urmpra62aKVOmaMeOHVq/fr3Wrl2r1157TTNmzOi4vQIAAJ2awxhj2lt8yy236B//+If+/ve/tzlujFFaWpquv/563XDDDZIkn88nj8ejZcuWadKkSdq1a5cyMzO1detWnXvuuZKkdevW6fvf/74+/fRTpaWltdpuXV2d6urqrOd+v1/p6eny+XxyuVxB7TAAe8nOzm53bUlJyUnrA8DJ5/f75Xa723X8DuoMyl/+8hede+65mjhxolJSUvS9731Pjz32mDX+0UcfqaqqSjk5OdYyt9utYcOGqbS0VJJUWlqqxMREK5xIUk5OjiIiIrRly5Y2X3fBggVyu93WIz09PZi2AQBAJxNUQPnwww/16KOP6owzztBLL72kmTNn6r/+67+0fPlySVJVVZUkyePxBKzn8XissaqqKqWkpASMR0VFKSkpyar5prlz58rn81mPioqKYNoGYGNut7tD6wCEh6hgipubm3XuuefqnnvukSR973vf0zvvvKPFixersLDwpDQoSU6nU06n86RtH0DoMA8KgLYEdQalV69eyszMDFg2cOBAlZeXS5JSU1MlSdXV1QE11dXV1lhqaqr27t0bMN7Y2KgvvvjCqgHQdSQnJ3doHYDwEFRAGTFihMrKygKWvffee+rTp48kqV+/fkpNTdWGDRuscb/fry1btsjr9UqSvF6vampqtG3bNqvmb3/7m5qbmzVs2LDj3hEAndOhQ4c6tA5AeAjqI57rrrtOF1xwge655x798Ic/1Ouvv64lS5ZoyZIlkr7+Mq9rr71Wv/rVr3TGGWeoX79++uUvf6m0tDRdccUVkr4+43LZZZfppz/9qRYvXqyGhgbNmjVLkyZNavMOHgDh7ZtnVE+0DkB4CCqgnHfeeVq9erXmzp2r+fPnq1+/frr//vs1ZcoUq+amm27SoUOHNGPGDNXU1GjkyJFat25dwDTVzzzzjGbNmqVLLrlEERERKigo0IMPPthxewWg02hoaOjQOgDhIah5UOwimPuoAdgb86AAXcdJmwcFADoad/EAaAsBBUBIDR48uEPrAIQHAgqAkHI4HB1aByA8EFAAhNT27ds7tA5AeCCgAAip+vr6Dq0DEB4IKAAAwHYIKAAAwHYIKAAAwHYIKAAAwHYIKABCyu12d2gdgPBAQAEQUocPH+7QOgDhgYACIKT4skAAbSGgAAAA2yGgAAAA2yGgAAAA2yGgAAAA2yGgAAAA2yGgAAAA2yGgAAAA2yGgAAAA2yGgAAAA2yGgAAAA2yGgAAAA2yGgAAAA2yGgAAAA2yGgAAipHj16dGgdgPBAQAEQUn369OnQOgDhgYACIKS2bdvWoXUAwgMBBQAA2A4BBQAA2A4BBQAA2A4BBQAA2A4BBQAA2A4BBQAA2E5QAeWOO+6Qw+EIeAwYMMAar62tVXFxsZKTk5WQkKCCggJVV1cHbKO8vFx5eXmKi4tTSkqKbrzxRjU2NnbM3gAAgLAQFewKgwYN0iuvvPLvDUT9exPXXXed/vrXv2rVqlVyu92aNWuW8vPz9Y9//EOS1NTUpLy8PKWmpmrTpk3as2ePfvKTnyg6Olr33HNPB+wOAAAIB0EHlKioKKWmprZa7vP59Pjjj2vFihUaPXq0JGnp0qUaOHCgNm/erOHDh+vll1/Wzp079corr8jj8Wjo0KG66667dPPNN+uOO+5QTEzMie8RAADo9IK+BmX37t1KS0vTaaedpilTpqi8vFzS17M8NjQ0KCcnx6odMGCAMjIyVFpaKkkqLS3V4MGD5fF4rJrc3Fz5/X7t2LHjqK9ZV1cnv98f8AAAAOErqIAybNgwLVu2TOvWrdOjjz6qjz76SBdeeKEOHDigqqoqxcTEKDExMWAdj8ejqqoqSVJVVVVAOGkZbxk7mgULFsjtdluP9PT0YNoGAACdTFAf8YwdO9b685AhQzRs2DD16dNHzz77rLp169bhzbWYO3eu5syZYz33+/2EFAAAwtgJ3WacmJioM888U++//75SU1NVX1+vmpqagJrq6mrrmpXU1NRWd/W0PG/rupYWTqdTLpcr4AEAAMLXCQWUgwcP6oMPPlCvXr2UlZWl6OhobdiwwRovKytTeXm5vF6vJMnr9Wr79u3au3evVbN+/Xq5XC5lZmaeSCsAACCMBPURzw033KAf/OAH6tOnjyorK3X77bcrMjJSkydPltvtVlFRkebMmaOkpCS5XC7Nnj1bXq9Xw4cPlySNGTNGmZmZmjp1qhYuXKiqqirddtttKi4ultPpPCk7CAAAOp+gAsqnn36qyZMn6/PPP1fPnj01cuRIbd68WT179pQkLVq0SBERESooKFBdXZ1yc3P1yCOPWOtHRkZq7dq1mjlzprxer+Lj41VYWKj58+d37F4BAIBOzWGMMaFuIlh+v19ut1s+n4/rUYBOLjs7u921JSUlJ60PACdfMMdvvosHAADYDgEFAADYDgEFAADYDgEFAADYDgEFAADYDgEFAADYDgEFAADYDgEFAADYDgEFAADYDgEFAADYDgEFAADYDgEFAADYDgEFAADYDgEFAADYDgEFAADYDgEFAADYDgEFAADYDgEFAADYDgEFAADYDgEFAADYDgEFAADYDgEFAADYDgEFAADYDgEFAADYDgEFAADYDgEFAADYDgEFAADYDgEFAADYDgEFAADYDgEFAADYDgEFAADYDgEFAADYDgEFAADYDgEFAADYDgEFAADYzgkFlHvvvVcOh0PXXnuttay2tlbFxcVKTk5WQkKCCgoKVF1dHbBeeXm58vLyFBcXp5SUFN14441qbGw8kVYAAEAYOe6AsnXrVv3ud7/TkCFDApZfd911ev7557Vq1Spt3LhRlZWVys/Pt8abmpqUl5en+vp6bdq0ScuXL9eyZcs0b968498LAAAQVo4roBw8eFBTpkzRY489pu7du1vLfT6fHn/8cd13330aPXq0srKytHTpUm3atEmbN2+WJL388svauXOnnn76aQ0dOlRjx47VXXfdpYcfflj19fUds1cAAKBTO66AUlxcrLy8POXk5AQs37ZtmxoaGgKWDxgwQBkZGSotLZUklZaWavDgwfJ4PFZNbm6u/H6/duzY0ebr1dXVye/3BzwAAED4igp2hZUrV+rNN9/U1q1bW41VVVUpJiZGiYmJAcs9Ho+qqqqsmiPDSct4y1hbFixYoDvvvDPYVgEAQCcV1BmUiooK/eIXv9Azzzyj2NjYk9VTK3PnzpXP57MeFRUV39lrAwCA715QAWXbtm3au3ev/uM//kNRUVGKiorSxo0b9eCDDyoqKkoej0f19fWqqakJWK+6ulqpqamSpNTU1FZ39bQ8b6n5JqfTKZfLFfAAAADhK6iAcskll2j79u166623rMe5556rKVOmWH+Ojo7Whg0brHXKyspUXl4ur9crSfJ6vdq+fbv27t1r1axfv14ul0uZmZkdtFsAAKAzC+oalFNOOUVnn312wLL4+HglJydby4uKijRnzhwlJSXJ5XJp9uzZ8nq9Gj58uCRpzJgxyszM1NSpU7Vw4UJVVVXptttuU3FxsZxOZwftFgAA6MyCvkj22yxatEgREREqKChQXV2dcnNz9cgjj1jjkZGRWrt2rWbOnCmv16v4+HgVFhZq/vz5Hd0KAADopBzGGBPqJoLl9/vldrvl8/m4HgXo5LKzs9tdW1JSctL6AHDyBXP85rt4AACA7RBQAACA7RBQAACA7RBQAACA7RBQAACA7RBQAACA7RBQAACA7RBQAACA7RBQAACA7RBQAACA7RBQAACA7RBQAACA7RBQAACA7RBQAACA7RBQAACA7RBQAACA7RBQAACA7RBQAACA7RBQAACA7RBQAACA7RBQAACA7RBQAACA7RBQAACA7RBQAACA7RBQAACA7RBQAACA7RBQAACA7RBQAACA7RBQAACA7RBQAACA7RBQAACA7RBQAACA7RBQAACA7RBQAACA7RBQAACA7QQVUB599FENGTJELpdLLpdLXq9XL774ojVeW1ur4uJiJScnKyEhQQUFBaqurg7YRnl5ufLy8hQXF6eUlBTdeOONamxs7Ji9AQAAYSGogNK7d2/de++92rZtm9544w2NHj1a48eP144dOyRJ1113nZ5//nmtWrVKGzduVGVlpfLz8631m5qalJeXp/r6em3atEnLly/XsmXLNG/evI7dKwAA0Kk5jDHmRDaQlJSkX//615owYYJ69uypFStWaMKECZKkd999VwMHDlRpaamGDx+uF198UePGjVNlZaU8Ho8kafHixbr55pu1b98+xcTEtOs1/X6/3G63fD6fXC7XibQPIMSys7PbXVtSUnLS+gBw8gVz/D7ua1Campq0cuVKHTp0SF6vV9u2bVNDQ4NycnKsmgEDBigjI0OlpaWSpNLSUg0ePNgKJ5KUm5srv99vnYVpS11dnfx+f8ADAACEr6ADyvbt25WQkCCn06mf//znWr16tTIzM1VVVaWYmBglJiYG1Hs8HlVVVUmSqqqqAsJJy3jL2NEsWLBAbrfbeqSnpwfbNgAA6ESCDihnnXWW3nrrLW3ZskUzZ85UYWGhdu7ceTJ6s8ydO1c+n896VFRUnNTXAwAAoRUV7AoxMTE6/fTTJUlZWVnaunWrHnjgAV155ZWqr69XTU1NwFmU6upqpaamSpJSU1P1+uuvB2yv5S6flpq2OJ1OOZ3OYFsFAACd1AnPg9Lc3Ky6ujplZWUpOjpaGzZssMbKyspUXl4ur9crSfJ6vdq+fbv27t1r1axfv14ul0uZmZkn2goAAAgTQZ1BmTt3rsaOHauMjAwdOHBAK1asUElJiV566SW53W4VFRVpzpw5SkpKksvl0uzZs+X1ejV8+HBJ0pgxY5SZmampU6dq4cKFqqqq0m233abi4mLOkAAAAEtQAWXv3r36yU9+oj179sjtdmvIkCF66aWXdOmll0qSFi1apIiICBUUFKiurk65ubl65JFHrPUjIyO1du1azZw5U16vV/Hx8SosLNT8+fM7dq8AAECndsLzoIQC86AA4YN5UICu4zuZBwUAAOBkIaAAAADbIaAAAADbIaAAAADbIaAAAADbIaAAAADbIaAAAADbIaAAAADbIaAAAADbIaAAAADbIaAAAADbIaAAAADbIaAAAADbIaAAAADbIaAAAADbIaAAAADbIaAAAADbIaAAAADbIaAAAADbIaAAAADbIaAAAADbIaAAAADbIaAAAADbIaAAAADbIaAAAADbIaAAAADbIaAAAADbIaAAAADbIaAAAADbIaAAAADbIaAAAADbIaAAAADbIaAAAADbIaAAAADbIaAAAADbCSqgLFiwQOedd55OOeUUpaSk6IorrlBZWVlATW1trYqLi5WcnKyEhAQVFBSouro6oKa8vFx5eXmKi4tTSkqKbrzxRjU2Np743gAAgLAQVEDZuHGjiouLtXnzZq1fv14NDQ0aM2aMDh06ZNVcd911ev7557Vq1Spt3LhRlZWVys/Pt8abmpqUl5en+vp6bdq0ScuXL9eyZcs0b968jtsrAADQqTmMMeZ4V963b59SUlK0ceNGXXTRRfL5fOrZs6dWrFihCRMmSJLeffddDRw4UKWlpRo+fLhefPFFjRs3TpWVlfJ4PJKkxYsX6+abb9a+ffsUExPzra/r9/vldrvl8/nkcrmOt30ANpCdnd3u2pKSkpPWB4CTL5jj9wldg+Lz+SRJSUlJkqRt27apoaFBOTk5Vs2AAQOUkZGh0tJSSVJpaakGDx5shRNJys3Nld/v144dO9p8nbq6Ovn9/oAHAAAIX8cdUJqbm3XttddqxIgROvvssyVJVVVViomJUWJiYkCtx+NRVVWVVXNkOGkZbxlry4IFC+R2u61Henr68bYNAAA6geMOKMXFxXrnnXe0cuXKjuynTXPnzpXP57MeFRUVJ/01AQBA6EQdz0qzZs3S2rVr9dprr6l3797W8tTUVNXX16umpibgLEp1dbVSU1Otmtdffz1gey13+bTUfJPT6ZTT6TyeVoF2qa2tVXl5eajbwLd47733Qt1Cl5SRkaHY2NhQt4EuJqiAYozR7NmztXr1apWUlKhfv34B41lZWYqOjtaGDRtUUFAgSSorK1N5ebm8Xq8kyev16u6779bevXuVkpIiSVq/fr1cLpcyMzM7Yp+AoJWXl2vGjBmhbgPfgp9RaCxZskRnnnlmqNtAFxPUXTzXXHONVqxYoTVr1uiss86ylrvdbnXr1k2SNHPmTL3wwgtatmyZXC6XZs+eLUnatGmTpK9vMx46dKjS0tK0cOFCVVVVaerUqbr66qt1zz33tKsP7uJBR+MMSugEEzqWLFlyEjvB0XAGBR0lmON3UAHF4XC0uXzp0qWaNm2apK//R3/99dfrD3/4g+rq6pSbm6tHHnkk4OObTz75RDNnzlRJSYni4+NVWFioe++9V1FR7TuhQ0ABwkt7bjXmFmOg8ztpAcUuCChA+DlWSCGcAOHhO5sHBQA6ytFCCOEE6JoIKABso6SkxLrOZMmSJYQToAsjoAAAANshoAAAANshoAAAANshoAAAANshoAAAANshoAAAANshoAAAANshoAAAANshoAAAANshoAAAANshoAAAANshoAAAANshoAAAANshoAAAANshoAAAANshoAAAANshoAAAANshoAAAANshoAAAANshoAAAANshoAAAANshoAAAANshoAAAANshoAAAANshoAAAANshoAAAANshoAAAANshoAAAANshoAAAANshoAAAANshoAAAANshoAAAANshoAAAANsJOqC89tpr+sEPfqC0tDQ5HA4999xzAePGGM2bN0+9evVSt27dlJOTo927dwfUfPHFF5oyZYpcLpcSExNVVFSkgwcPntCOAACA8BF0QDl06JDOOeccPfzww22OL1y4UA8++KAWL16sLVu2KD4+Xrm5uaqtrbVqpkyZoh07dmj9+vVau3atXnvtNc2YMeP49wIAAISVqGBXGDt2rMaOHdvmmDFG999/v2677TaNHz9ekvTkk0/K4/Houeee06RJk7Rr1y6tW7dOW7du1bnnnitJ+p//+R99//vf129+8xulpaW12m5dXZ3q6uqs536/P9i2AQBAJ9Kh16B89NFHqqqqUk5OjrXM7XZr2LBhKi0tlSSVlpYqMTHRCieSlJOTo4iICG3ZsqXN7S5YsEBut9t6pKend2TbAADAZjo0oFRVVUmSPB5PwHKPx2ONVVVVKSUlJWA8KipKSUlJVs03zZ07Vz6fz3pUVFR0ZNsAAMBmgv6IJxScTqecTmeo2wAAAN+RDg0oqampkqTq6mr16tXLWl5dXa2hQ4daNXv37g1Yr7GxUV988YW1fldSXV0tn88X6jYA2/jkk08C/gvga263u9UnFOGsQwNKv379lJqaqg0bNliBxO/3a8uWLZo5c6Ykyev1qqamRtu2bVNWVpYk6W9/+5uam5s1bNiwjmzH9qqrq/XjqT9RQ33dtxcDXczdd98d6hYAW4mOcerpp57sMiEl6IBy8OBBvf/++9bzjz76SG+99ZaSkpKUkZGha6+9Vr/61a90xhlnqF+/fvrlL3+ptLQ0XXHFFZKkgQMH6rLLLtNPf/pTLV68WA0NDZo1a5YmTZrU5h084czn86mhvk5fnTZKzbHuULcDALCpiFqf9OFG+Xw+AsrRvPHGG7r44out53PmzJEkFRYWatmyZbrpppt06NAhzZgxQzU1NRo5cqTWrVun2NhYa51nnnlGs2bN0iWXXKKIiAgVFBTowQcf7IDd6ZyaY91qju8R6jYAALCNoANKdna2jDFHHXc4HJo/f77mz59/1JqkpCStWLEi2JcGAABdBN/FAwAAbIeAAgAAbIeAAgAAbIeAAgAAbIeAAgAAbIeAAgAAbIeAAgAAbIeAAgAAbIeAAgAAbIeAAgAAbIeAAgAAbIeAAgAAbIeAAgAAbIeAAgAAbIeAAgAAbIeAAgAAbIeAAgAAbCcq1A1AiviqJtQtAABsrCseJwgoNtDto9dC3QIAALZCQLGBr/pdpOZuiaFuAwBgUxFf1XS5X2YJKDbQ3C1RzfE9Qt0GAAC2wUWyAADAdggoAADAdggoAADAdggoAADAdrhI1gYian2hbgEAYGNd8ThBQAkht9ut6Bin9OHGULcCALC56Bin3G53qNv4zhBQQsjj8ejpp56Uz9f1kjFwNJ988onuvvtu3XrrrerTp0+o2wFsw+12y+PxhLqN7wwBJcQ8Hk+X+gsHtFefPn105plnhroNACHCRbIAAMB2CCgAAMB2CCgAAMB2CCgAAMB2CCgAAMB2CCgAAMB2QhpQHn74YfXt21exsbEaNmyYXn/99VC2AwAAbCJk86D88Y9/1Jw5c7R48WINGzZM999/v3Jzc1VWVqaUlJRQtYUuqra2VuXl5aFuA/p6orYj/4vQy8jIUGxsbKjbQBfjMMaYULzwsGHDdN555+mhhx6SJDU3Nys9PV2zZ8/WLbfcElBbV1enuro667nf71d6erp8Pp9cLtd32jfC03vvvacZM2aEug3AlpYsWcKkeegQfr9fbre7XcfvkJxBqa+v17Zt2zR37lxrWUREhHJyclRaWtqqfsGCBbrzzju/yxbRxWRkZGjJkiWhbgOwpYyMjFC3gC4oJAFl//79ampqajXFu8fj0bvvvtuqfu7cuZozZ471vOUMCtBRYmNj+Q0RAGykU3wXj9PplNPpDHUbAADgOxKSu3h69OihyMhIVVdXByyvrq5WampqKFoCAAA2EpKAEhMTo6ysLG3YsMFa1tzcrA0bNsjr9YaiJQAAYCMh+4hnzpw5Kiws1Lnnnqvzzz9f999/vw4dOqSrrroqVC0BAACbCFlAufLKK7Vv3z7NmzdPVVVVGjp0qNatW9fqwlkAAND1hGwelBMRzH3UAADAHoI5fvNdPAAAwHYIKAAAwHYIKAAAwHYIKAAAwHYIKAAAwHYIKAAAwHYIKAAAwHY6xZcFflPL1C1+vz/EnQAAgPZqOW63Zwq2ThlQDhw4IElKT08PcScAACBYBw4ckNvtPmZNp5xJtrm5WZWVlTrllFPkcDhC3Q6ADuT3+5Wenq6KigpmigbCjDFGBw4cUFpamiIijn2VSacMKADCF19lAUDiIlkAAGBDBBQAAGA7BBQAtuJ0OnX77bfL6XSGuhUAIcQ1KAAAwHY4gwIAAGyHgAIAAGyHgAIAAGyHgAIAAGyHgAIAAGyHgAIAAGyHgAIAAGyHgAIAAGyHgAIAAGyHgAJ0AdOmTZPD4VBJSUmoW7GUlJTI4XBo2rRpoW7F8vHHH8vhcCg7O/u4t9G3b185HI6Oa8oGsrOz5XA49PHHH4e6FXQhBBTAZu644w45HA4tW7Ys1K2giwjHUIXOLyrUDQDoms4//3zt2rVLbrc71K0AsCECCoCQiIuL04ABA0LdBgCb4iMehL2//vWvmj59ugYOHCiXy6X4+Hidc845uueee1RXV9eq/oUXXtCll16qU089VU6nU2lpaRo5cqTuvPPONre/bt06XX755fJ4PHI6nUpPT9e4ceP0v//7v0H32rdvX+t1rrrqKjkcDuvxzetHnnrqKY0cOVIul0txcXEaMmSIFixYoNra2na/Xn19vSZOnCiHw6H8/PyA92PLli2aOHGievXqpZiYGPXu3VtXX321ysvLW23nyI+ltm/frssvv1zdu3dXfHy8Ro0apU2bNrVap61rUFqWHevxzWtWjDH6wx/+oNGjR6t79+6KjY3VwIEDdccdd+jw4cNt7ndFRYWmTp2qnj17Ki4uTllZWXr66afb/b4dr4qKCs2aNUv9+/dXbGyskpKSNG7cuG99f7744gvNnDlTvXr1ktPp1Nlnn60nnnjiqK/z5z//WcOHD1dcXJx69OihiRMn6v3332/18WHLa3zyySeSFPA+9+3bt81tP/fccxo+fLji4+OVlJSkyZMn69NPPz3h9wZoxQBhzuPxGJfLZS644ALzwx/+0OTm5pru3bsbSWb06NGmsbHRqn3ooYeMJBMZGWkuuugiM3nyZHPppZea3r17m7b+ucyZM8dIMhEREWbEiBFm8uTJZtSoUSYxMdGcc845Qfd6/fXXm3POOcdIMiNGjDCFhYXWY9euXVbdjBkzjCQTGxtrvv/975sJEyaYHj16GEnG6/WaQ4cOBWy3sLDQSDKvvvqqtezAgQMmJyfHSDLTp08PeB8efvhhExERYSIiIsywYcPMxIkTzZAhQ4wk07NnT7Nz586A7d9+++1GkikuLjZxcXFm8ODB5sorr7T2JTY21mzfvj1gnVdffdVIMoWFhdayXbt2BezzkY/+/ftbvbZoamoykydPNpJMQkKCyc7ONv/5n/9p0tPTjSRz/vnnm8OHDwe87ocffmhSU1ONJHPaaaeZSZMmmQsvvNA4HA4za9YsI8mMGjUq2B+dpU+fPm3+Xdm0aZP19+6ss84y+fn55sILLzRRUVEmMjLSrFy5ss33Z/z48ebMM880aWlpZuLEiebiiy82kZGRRpJ57LHHWr3O/fffb/2dzM7ONpMmTTL9+vUz3bt3Nz/5yU+MJLN06dKA9zs+Pt76WbQ8rr/+emubo0aNMpLMjTfeaCIjI012draZMGGC9T6fccYZrd5n4EQRUBD2nnvuuVb/8/T7/WbcuHFGklm+fLm1PCMjwzgcDrN169aA+ubm5oCDuzHGPPXUU0aSSUtLM//85z8Dxg4fPmxefvnl4+q35WDfchD5pj/96U/W67733nvW8pqaGjNy5EgjKeDgYkzrgLJ//35z/vnnWwedI5WWlprIyEhz6qmnmjfeeCNg7Pe//72RZIYNG9Zmz5LMAw88EDB27bXXGklm6tSpAcvbCihHU1paapxOp0lMTDRlZWXW8oULFxpJJjs72+zZs8daXldXZ4qKiowkc/PNNwds67LLLrOCTkNDg7X8L3/5i3Xg7+iA4vP5TK9evUxkZKR5+umnA8a2bt1qunfvbhISEszevXut5S3vjyQzadIkU1tba42tXr3aSDIZGRkB2/rggw9MTEyMiYmJMX/729+s5Q0NDeaqq66ytvfNv1tHC1UtWgJKXFyc2bRpk7X80KFD5oILLjCSzOOPP/7tbw4QBAIKuqzdu3cbSSY/P99a1q1bN9O9e/d2rT9w4EAjqdVvvifq2wLKRRddZCSZ3/3ud63G3n77beNwOExCQoL56quvrOVHBpRPP/3UZGZmGklmwYIFrbYxfvx4I8k8//zzbb7+5ZdfbiSZN998s1XPI0aMaFW/f/9+I8n06dMnYHl7A0pFRYVJTU01kZGR5qWXXrKWNzQ0mB49epj4+HhTVVXVar3Dhw+b1NRU0717d9PU1GSM+foALsm4XC5TU1PTap0rr7zypASURYsWtRkcW9x3331GkrnvvvusZS3vj8vlMvv372+1ztlnn20kmY8++shaduuttxpJpqioqFX9l19+aRISEk4ooNx6662txloCc3uCJhAMrkFBl7B792498MADmj17tqZPn65p06bprrvussZaZGVl6csvv1RRUZF27Nhx1O1VVlZq165dSkxM1A9/+MOT3n+LhoYGbd68WZI0ZcqUVuNDhgzRkCFDdPDgQb311lutxnfv3q0RI0bo3Xff1ZIlS3TLLbcEjDc3N2vDhg2Ki4tTbm5umz1ceOGFkqTXX3+91diYMWNaLUtOTlZSUpL27Nnzrfv3TV999ZXGjx+vqqoq/fa3vw3Y/ptvvqn9+/frggsukMfjabVut27drJ9ny8/4//7v/yRJl112WZt3D02ePDnoHtvj5ZdfliTl5+e3OX6s9zQrK0vJycmtlp955pmSFPC+/uMf/5AkTZw4sVV9YmJimz+fYLS1flt9AB2Bu3gQ1owxuuGGG7Ro0SIZY9qsOXDggPXnhx9+WFdccYWeeOIJPfHEE/J4PBo1apTy8/M1YcIERUZGSvr6YkdJOu20077T+SM+//xz1dfXq0ePHoqPj2+zpm/fvnr77bf12WeftRq75ppr1NjYqP/+7//WT3/601bj+/fv18GDByVJMTExx+xl//79rZb17t27zdpTTjlFX3zxxTG315Zp06bpzTffVFFRkX7xi18EjLVMGrZ+/fpv/Rns379fZ511liorKyVJffr0abPuaBeGnqiWXkeMGHHMumDfU0kBFza3hIT09PQ218nIyPjWXo+lrV7a6gPoCAQUhLU//vGPuu+++5Senq5FixbJ6/WqZ8+eio6OVn19vZxOZ0BwGTJkiHbu3Kl169bphRdeUElJiZ599lk9++yz8nq9Kikp+dYDd6gd62B95ZVXasWKFVq0aJEuv/zyVrf5Njc3S5ISEhJUUFBwzNcZNGhQq2URER13Uvauu+7Ss88+q5EjR+qRRx5pNd7S6+mnn/6tB/62zkB8l1p6nTBhwlGDpaQ2b7vuyPf0RNmpF4Q/AgrC2urVqyVJjz76qPLy8gLGPvzwwzbXiY2N1RVXXKErrrhCkrRjxw796Ec/UmlpqX7/+9/rmmuusX5D/fDDD2WM+c7OoiQnJysmJkb79+/XoUOH2jzYtfy2fuqpp7Yau/rqqzVixAhdc801Gj16tEpKSqxT9JLUo0cPxcbGKiIiQkuXLg3Z7KKrV6/W7bffrj59+ujPf/5zm6Gw5bf5AQMGtHvW3V69ekmSdVvtNx1t+Ynq3bu3ysrKdMsttygrK+ukvIb09f6VlZWpoqJCmZmZrcZbzvwBnQFxGGHtyy+/lNT2qelnn322XdsYNGiQiouLJUnvvPOOJCktLU0DBw5UTU2NVq1a1UHdfq3lYNzY2NhqLDo6WsOHD5ckrVy5stX4O++8o7ffflsJCQkaOnRom9ufOXOmHnroIe3Zs0cXX3yx3n//fWssKipK2dnZ8vv92rBhQwfsTfDefvttTZ06VXFxcVqzZo169uzZZt15550nt9utjRs3tvvjo5EjR0r6eu4av9/faryt97QjXHrppZL+HZhPlpYzSW3NwePz+axrYb7pWH/ngFAhoCCstZwdWLJkScBHOX//+9/161//OqD28OHDevDBB1VTUxOwvLm5WevWrZMU+Nl+ywWmc+bM0b/+9a+AdWpra7V+/frj6jktLU2SVFZW1ub47NmzJX09OdqRZ4EOHDigWbNmyRijn/3sZ4qNjT3qaxQXF+uBBx5QZWWlLr74Yn3wwQfW2K233qqIiAhdddVVbX654MGDB/XEE0/oq6++Op7dO6Z9+/Zp/PjxOnz4sJ588kmdc845R611Op266aabdODAAeXn57d5Ruyzzz7TU089ZT3v37+/xowZI7/fr+uvv15NTU3W2AsvvNDhYbPFz372M6WkpGjhwoVasmSJ9ZFPi8bGRr300ktWAD5eV111lWJiYvTkk0/qtddes5Y3NTXp+uuvD7je6kjf9ncOCIlQ3kIEnGxlZWXWJFSZmZkBk3LdcMMNAbe/fvnll0aSiY6ONsOHDzeTJk0y+fn51mRUffv2bXW75+zZs62J3UaOHGkmT55ssrOzj3uiNmOM+eyzz0xsbKyJjIw0l112mZk+fbopKioy7777rlXTMlFbt27dTF5enpk4caLp2bOnkWSGDx/eronajPn37a/p6enmww8/tJY/+uij1pwgZ599tsnPzzdXXnmlGTZsmHE6nUaS+fLLL636b7s1uq3bWNu6zXj+/PlGkklNTT3qhG1HTk7W1NRkpk6daiSZmJgYM2zYMOvnNmjQIONwOFr9HD744APj8XiMJNO/f38zadIkc9FFFxmHw2GKi4tP2kRtpaWl1mR66enpZuzYseZHP/qRGT16tElMTDSSzOrVq4/5/hzpaD/TIydqu/jii82kSZPMaaedZhITE82Pf/xjI8k888wzAev89re/NZKMx+MxkyZNMkVFRQHzx7TcZnzkLc0tPvrooxN+z4C2EFAQ9nbt2mV+8IMfmJSUFBMXF2e+973vmSVLlhhjTEBAaWhoMA8//LDJz883/fv3N3FxcSYxMdEMGTLE3Hnnnebzzz9vc/tr1qwxubm5JikpycTExJjevXubcePGmT//+c/H3fNLL71kRowYYc1b0daB6MknnzQXXHCBSUhIMLGxsWbQoEHm7rvvbnNGz6MdzIwx5je/+Y31Phx5APrnP/9pCgsLTZ8+fUxMTIxJTEw0gwYNMtOnTzdr1641zc3NVm1HBZQjJ3w72qOtA/aaNWtMXl6eSUlJMdHR0SYlJcVkZWWZm266yWzbtq1V/ccff2x+9KMfmeTkZBMbG2uGDh1qli1b1iEH22PNKbJnzx5z0003mUGDBpm4uDgTFxdn+vfvb8aPH2+WLVtmDhw4cMz350jH+pn+6U9/Mueff741r09+fr4pKyszV199tZFk1q1bF1Df0NBgbrvtNtO/f38THR3dat4aAgpCwWHMUe69BACEjaamJg0ZMkS7du1SZWWlUlNTQ90ScExcgwIAYeSDDz5odR1VXV2dbrrpJu3cuVOXXHIJ4QSdArcZA0AYWbVqlW6//XZlZWUpPT1dfr9fb7/9tvbs2aMePXrooYceCnWLQLvwEQ9wEu3fv1833HBDu2oHDBjQaup5hNbvf/97a3r8b3PLLbe0OdHad23r1q267777tHnzZu3bt0+NjY069dRTlZubq7lz5x51llnAbggowEn08ccfq1+/fu2qHTVqVJu39SJ0pk2bpuXLl7er9tVXX1V2dvbJbQjoQggoAADAdrhIFgAA2A4BBQAA2A4BBQAA2A4BBQAA2A4BBQAA2A4BBQAA2A4BBQAA2A4BBQAA2M7/A3mAj+ELHGBXAAAAAElFTkSuQmCC\n",
      "text/plain": [
       "<Figure size 640x480 with 1 Axes>"
      ]
     },
     "metadata": {},
     "output_type": "display_data"
    }
   ],
   "source": [
    "plt.figure()\n",
    "sns.boxplot(data = asc_tokenized_len)\n",
    "\n",
    "plt.xlabel(\"asc_tokenized_length\", fontsize = 15)\n",
    "\n",
    "boxplot_path = os.path.join(DATA_DIR, 'maxlen_boxplot.png')\n",
    "plt.savefig(boxplot_path, transparent = True)\n",
    "\n",
    "plt.show()"
   ]
  },
  {
   "cell_type": "code",
   "execution_count": 27,
   "metadata": {
    "colab": {
     "base_uri": "https://localhost:8080/",
     "height": 456
    },
    "executionInfo": {
     "elapsed": 214,
     "status": "ok",
     "timestamp": 1749694369021,
     "user": {
      "displayName": "melon",
      "userId": "16479606032837208631"
     },
     "user_tz": -540
    },
    "id": "dV9OlpOLVxJj",
    "outputId": "3e5be230-867a-4d2e-b57b-51bdcd639085"
   },
   "outputs": [
    {
     "data": {
      "image/png": "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\n",
      "text/plain": [
       "<Figure size 640x480 with 1 Axes>"
      ]
     },
     "metadata": {},
     "output_type": "display_data"
    }
   ],
   "source": [
    "plt.figure()\n",
    "\n",
    "plt.hist(asc_lengths, bins = 50)\n",
    "\n",
    "plt.xlabel(\"asc_tokenized_length\", fontsize = 15)\n",
    "plt.ylabel(\"frequency\", fontsize = 15)\n",
    "\n",
    "hist_path = os.path.join(DATA_DIR, 'maxlen_hist.png')\n",
    "plt.savefig(hist_path, transparent = True)\n",
    "\n",
    "plt.show()"
   ]
  },
  {
   "cell_type": "code",
   "execution_count": null,
   "metadata": {
    "colab": {
     "base_uri": "https://localhost:8080/"
    },
    "executionInfo": {
     "elapsed": 39,
     "status": "ok",
     "timestamp": 1749284679220,
     "user": {
      "displayName": "melon",
      "userId": "16479606032837208631"
     },
     "user_tz": -540
    },
    "id": "GQ60xa18Ws5h",
    "outputId": "188caf0a-12cb-4140-e9fd-0c581cf912ae"
   },
   "outputs": [
    {
     "data": {
      "text/plain": [
       "691"
      ]
     },
     "execution_count": 52,
     "metadata": {},
     "output_type": "execute_result"
    }
   ],
   "source": [
    "asc_encoded = asc_tokenizer(\n",
    "      maxlen_text,\n",
    "      padding=False,\n",
    "      truncation=False,\n",
    "      return_tensors='pt',\n",
    "      add_special_tokens=True\n",
    "          )\n",
    "input_ids = asc_encoded['input_ids'][0].tolist()\n",
    "len(input_ids)"
   ]
  },
  {
   "cell_type": "code",
   "execution_count": null,
   "metadata": {
    "colab": {
     "base_uri": "https://localhost:8080/"
    },
    "executionInfo": {
     "elapsed": 12,
     "status": "ok",
     "timestamp": 1749284684163,
     "user": {
      "displayName": "melon",
      "userId": "16479606032837208631"
     },
     "user_tz": -540
    },
    "id": "PzVj2fzQXLdY",
    "outputId": "b5322dc7-6b70-408a-c291-0caa6ebf0cf2"
   },
   "outputs": [
    {
     "data": {
      "text/plain": [
       "689"
      ]
     },
     "execution_count": 54,
     "metadata": {},
     "output_type": "execute_result"
    }
   ],
   "source": [
    "len(asc_tokenizer.tokenize(maxlen_text))"
   ]
  },
  {
   "cell_type": "markdown",
   "metadata": {
    "id": "O6O8JZjShnYp"
   },
   "source": [
    "- maxlen = 128로 둬도 충분할듯\n",
    "  - ACD f1: 0.9302\n",
    "  - ABSA f1: 0.7757\n",
    "\n",
    "- 같은 조건 하에 (data split 다시 x) maxlen = 256\n",
    "  - ACD f1: 0.9277\n",
    "  - ABSA f1: 0.7378\n",
    "\n",
    "- maxlen = 128 일 때가 성능이 더 좋음"
   ]
  },
  {
   "cell_type": "code",
   "execution_count": null,
   "metadata": {
    "id": "yXGCW9ZxffGP"
   },
   "outputs": [],
   "source": []
  }
 ],
 "metadata": {
  "accelerator": "GPU",
  "colab": {
   "gpuType": "T4",
   "machine_shape": "hm",
   "provenance": []
  },
  "kernelspec": {
   "display_name": "Python [conda env:base] *",
   "language": "python",
   "name": "conda-base-py"
  },
  "language_info": {
   "codemirror_mode": {
    "name": "ipython",
    "version": 3
   },
   "file_extension": ".py",
   "mimetype": "text/x-python",
   "name": "python",
   "nbconvert_exporter": "python",
   "pygments_lexer": "ipython3",
   "version": "3.12.2"
  },
 },
 "nbformat": 4,
 "nbformat_minor": 4
}
